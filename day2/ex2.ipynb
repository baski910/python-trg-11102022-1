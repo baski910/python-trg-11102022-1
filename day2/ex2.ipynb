{
 "cells": [
  {
   "cell_type": "code",
   "execution_count": 2,
   "id": "7b1f756e",
   "metadata": {},
   "outputs": [
    {
     "name": "stdout",
     "output_type": "stream",
     "text": [
      "not part of the function\n",
      "helloworld\n",
      "this line is part of the function\n",
      "helloworld\n",
      "this line is part of the function\n",
      "this is an example function\n"
     ]
    }
   ],
   "source": [
    "\"\"\"Examples for functions\"\"\"\n",
    "\n",
    "def sayHello():\n",
    "    \"\"\"this is an example function\"\"\"\n",
    "    print(\"helloworld\")\n",
    "    print(\"this line is part of the function\")\n",
    "print(\"not part of the function\")\n",
    "\n",
    "sayHello()\n",
    "sayHello()\n",
    "\n",
    "print(sayHello.__doc__) # returns the function docstring"
   ]
  },
  {
   "cell_type": "code",
   "execution_count": 4,
   "id": "b197a872",
   "metadata": {},
   "outputs": [
    {
     "name": "stdout",
     "output_type": "stream",
     "text": [
      "hello\n"
     ]
    }
   ],
   "source": [
    "def echo(n): \n",
    "    print(n)\n",
    "    \n",
    "# function call without parameter leads to error.\n",
    "# the parameter is required and can not be omitted\n",
    "echo() # results in error"
   ]
  },
  {
   "cell_type": "code",
   "execution_count": 8,
   "id": "81752390",
   "metadata": {},
   "outputs": [
    {
     "name": "stdout",
     "output_type": "stream",
     "text": [
      "Name: bob\n",
      "Age: 13\n"
     ]
    }
   ],
   "source": [
    "def display(name,age):\n",
    "    print(\"Name: {}\".format(name)) # From v 3.8 print(\"Name:{name}\")\n",
    "    print(\"Age: {}\".format(age))\n",
    "\n",
    "# The parameters can be treated as keyword in function call\n",
    "# and passing order can be modified\n",
    "\n",
    "#display('bob',13)\n",
    "#display(13,'bob') # arguments passed in modified order\n",
    "display(age=13,name='bob') # arguments used as keyword"
   ]
  },
  {
   "cell_type": "code",
   "execution_count": 12,
   "id": "c921a8ec",
   "metadata": {},
   "outputs": [
    {
     "name": "stdout",
     "output_type": "stream",
     "text": [
      "360.0\n"
     ]
    }
   ],
   "source": [
    "# in the below function parameter 'r' is assgined value in the function definition and is\n",
    "# called as default argument.\n",
    "def calculateinterest(p,n,r=12):\n",
    "#def calculateinterest(p,r=12,n): # results in error non-default argument follows default argument\n",
    "    return p*n*r/100\n",
    "\n",
    "# no need of including default argument in the function call\n",
    "total = calculateinterest(1000,3) # the value for 'r' is 12\n",
    "print(total)"
   ]
  },
  {
   "cell_type": "code",
   "execution_count": 10,
   "id": "6139ca8d",
   "metadata": {},
   "outputs": [
    {
     "name": "stdout",
     "output_type": "stream",
     "text": [
      "240.0\n"
     ]
    }
   ],
   "source": [
    "# The value provided for default argument is considered in function call (or) default value is overwritten\n",
    "total = calculateinterest(1000,3,8) # the value for 'r' is 8\n",
    "print(total)"
   ]
  },
  {
   "cell_type": "code",
   "execution_count": 15,
   "id": "5d24954a",
   "metadata": {},
   "outputs": [
    {
     "name": "stdout",
     "output_type": "stream",
     "text": [
      "(69, 34, 28, 75, 90, 12)\n",
      "90\n"
     ]
    }
   ],
   "source": [
    "# passing unknown number of parameters to a function (or) variable number of arguments\n",
    "# find the maximum out of the numbers passed. (we could even use 'max' to achieve the same).\n",
    "# this is an example for passing variable number of arguments\n",
    "a = 10\n",
    "b = 20\n",
    "c = 30\n",
    "def find_max(*args):\n",
    "    # args inside the function is treated as tuple\n",
    "    print(args)\n",
    "    m = args[0]\n",
    "    \n",
    "    for v in args:\n",
    "        if m<v: m=v\n",
    "    return m\n",
    "    \n",
    "#find_max() # calling function without parameter\n",
    "#max_val = find_max(69,34,28,75,90,12)\n",
    "m = find_max(a,b,c)\n",
    "print(max_val)"
   ]
  },
  {
   "cell_type": "code",
   "execution_count": 17,
   "id": "a9ec2102",
   "metadata": {},
   "outputs": [
    {
     "name": "stdout",
     "output_type": "stream",
     "text": [
      "15\n",
      "2\n",
      "31\n"
     ]
    }
   ],
   "source": [
    "a = 15\n",
    "def test(**kwargs):\n",
    "    # inside the function kwargs is treated as dictionary\n",
    "    #print(kwargs['a'])\n",
    "    #print(kwargs['b'])\n",
    "    #print(kwargs['c'])\n",
    "    #print(a)\n",
    "    for key,val in kwargs.items():\n",
    "        print(val)\n",
    "    \n",
    "test(a=15,b=2,c=31)"
   ]
  },
  {
   "cell_type": "code",
   "execution_count": null,
   "id": "c54d84c7",
   "metadata": {},
   "outputs": [],
   "source": []
  }
 ],
 "metadata": {
  "kernelspec": {
   "display_name": "Python 3 (ipykernel)",
   "language": "python",
   "name": "python3"
  },
  "language_info": {
   "codemirror_mode": {
    "name": "ipython",
    "version": 3
   },
   "file_extension": ".py",
   "mimetype": "text/x-python",
   "name": "python",
   "nbconvert_exporter": "python",
   "pygments_lexer": "ipython3",
   "version": "3.7.3"
  }
 },
 "nbformat": 4,
 "nbformat_minor": 5
}
