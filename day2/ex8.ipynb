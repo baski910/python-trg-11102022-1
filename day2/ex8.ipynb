{
 "cells": [
  {
   "cell_type": "code",
   "execution_count": 5,
   "id": "ed8ab526",
   "metadata": {},
   "outputs": [
    {
     "name": "stdout",
     "output_type": "stream",
     "text": [
      "my first coroutine\n",
      "this is a test message\n",
      "one more message here\n",
      "Exiting coroutine\n"
     ]
    }
   ],
   "source": [
    "# coroutine example\n",
    "\n",
    "def example(pattern):\n",
    "    print(\"my first coroutine\")\n",
    "    try:\n",
    "        while True:\n",
    "            value = (yield)\n",
    "            if pattern in value:\n",
    "                print(value)\n",
    "    except GeneratorExit:\n",
    "        print(\"Exiting coroutine\")\n",
    "\n",
    "cor = example('message')\n",
    "next(cor)\n",
    "cor.send('this is a test message')\n",
    "cor.send('searching for hello in lines')\n",
    "cor.send('one more message here')\n",
    "cor.send('test occurance of hello here')\n",
    "cor.close()"
   ]
  },
  {
   "cell_type": "code",
   "execution_count": null,
   "id": "de92b076",
   "metadata": {},
   "outputs": [],
   "source": []
  }
 ],
 "metadata": {
  "kernelspec": {
   "display_name": "Python 3 (ipykernel)",
   "language": "python",
   "name": "python3"
  },
  "language_info": {
   "codemirror_mode": {
    "name": "ipython",
    "version": 3
   },
   "file_extension": ".py",
   "mimetype": "text/x-python",
   "name": "python",
   "nbconvert_exporter": "python",
   "pygments_lexer": "ipython3",
   "version": "3.7.3"
  }
 },
 "nbformat": 4,
 "nbformat_minor": 5
}
