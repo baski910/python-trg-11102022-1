{
 "cells": [
  {
   "cell_type": "code",
   "execution_count": 3,
   "id": "2e632d10",
   "metadata": {},
   "outputs": [
    {
     "name": "stdout",
     "output_type": "stream",
     "text": [
      "[0, 6, 12, 18, 24, 30, 36, 42, 48, 54, 60, 66, 72, 78, 84, 90, 96, 102, 108, 114, 120, 126, 132, 138, 144, 150, 156, 162, 168, 174, 180, 186, 192, 198]\n"
     ]
    }
   ],
   "source": [
    "\"\"\"Example for filter\"\"\"\n",
    "\n",
    "numbers = [x for x in range(200)]\n",
    "\n",
    "def is_divisible(x):\n",
    "    return x%6==0\n",
    "\n",
    "# filter using custom function\n",
    "even_numbers = list(filter(is_divisible,numbers))\n",
    "\n",
    "#print(even_numbers)\n",
    "\n",
    "enumbers = list(filter(lambda x: x%6==0,numbers))\n",
    "\n",
    "print(enumbers)\n"
   ]
  },
  {
   "cell_type": "code",
   "execution_count": 6,
   "id": "d2914435",
   "metadata": {},
   "outputs": [
    {
     "name": "stdout",
     "output_type": "stream",
     "text": [
      "[0, 1, 4, 9, 16, 25, 36, 49, 64, 81, 100, 121, 144, 169, 196, 225, 256, 289, 324, 361, 400, 441, 484, 529, 576, 625, 676, 729, 784, 841, 900, 961, 1024, 1089, 1156, 1225, 1296, 1369, 1444, 1521, 1600, 1681, 1764, 1849, 1936, 2025, 2116, 2209, 2304, 2401, 2500, 2601, 2704, 2809, 2916, 3025, 3136, 3249, 3364, 3481, 3600, 3721, 3844, 3969, 4096, 4225, 4356, 4489, 4624, 4761, 4900, 5041, 5184, 5329, 5476, 5625, 5776, 5929, 6084, 6241, 6400, 6561, 6724, 6889, 7056, 7225, 7396, 7569, 7744, 7921, 8100, 8281, 8464, 8649, 8836, 9025, 9216, 9409, 9604, 9801, 10000, 10201, 10404, 10609, 10816, 11025, 11236, 11449, 11664, 11881, 12100, 12321, 12544, 12769, 12996, 13225, 13456, 13689, 13924, 14161, 14400, 14641, 14884, 15129, 15376, 15625, 15876, 16129, 16384, 16641, 16900, 17161, 17424, 17689, 17956, 18225, 18496, 18769, 19044, 19321, 19600, 19881, 20164, 20449, 20736, 21025, 21316, 21609, 21904, 22201]\n"
     ]
    }
   ],
   "source": [
    "\"\"\"Example for map\"\"\"\n",
    "\n",
    "numbers = [x for x in range(150)]\n",
    "\n",
    "def square(x):\n",
    "    return x*x\n",
    "\n",
    "# map using custom function\n",
    "#square_numbers = list(map(square,numbers))\n",
    "\n",
    "#print(square_numbers)\n",
    "\n",
    "sq_nums = list(map(lambda x: x*x, numbers))\n",
    "\n",
    "print(sq_nums)"
   ]
  },
  {
   "cell_type": "code",
   "execution_count": null,
   "id": "6148f147",
   "metadata": {},
   "outputs": [],
   "source": []
  }
 ],
 "metadata": {
  "kernelspec": {
   "display_name": "Python 3 (ipykernel)",
   "language": "python",
   "name": "python3"
  },
  "language_info": {
   "codemirror_mode": {
    "name": "ipython",
    "version": 3
   },
   "file_extension": ".py",
   "mimetype": "text/x-python",
   "name": "python",
   "nbconvert_exporter": "python",
   "pygments_lexer": "ipython3",
   "version": "3.7.3"
  }
 },
 "nbformat": 4,
 "nbformat_minor": 5
}
