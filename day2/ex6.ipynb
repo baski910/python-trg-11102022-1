{
 "cells": [
  {
   "cell_type": "code",
   "execution_count": 1,
   "id": "3d9631c1",
   "metadata": {},
   "outputs": [
    {
     "name": "stdout",
     "output_type": "stream",
     "text": [
      "210\n"
     ]
    }
   ],
   "source": [
    "\"\"\"Example for nested function\"\"\"\n",
    "def f(x):\n",
    "    def g(y):\n",
    "        return y*y\n",
    "    return x+g(x)\n",
    "\n",
    "num = f(14)\n",
    "print(num)"
   ]
  },
  {
   "cell_type": "code",
   "execution_count": 3,
   "id": "ec52bfd4",
   "metadata": {},
   "outputs": [
    {
     "name": "stdout",
     "output_type": "stream",
     "text": [
      "<function f.<locals>.g at 0x7f3a457d3488>\n",
      "196\n"
     ]
    }
   ],
   "source": [
    "\"\"\"example for closure\"\"\"\n",
    "\n",
    "def f(x):\n",
    "    def g():\n",
    "        return x*x\n",
    "    return g\n",
    "\n",
    "ref = f(14)\n",
    "\n",
    "print(ref)\n",
    "\n",
    "print(ref())"
   ]
  },
  {
   "cell_type": "code",
   "execution_count": 6,
   "id": "8db0a71f",
   "metadata": {},
   "outputs": [
    {
     "name": "stdout",
     "output_type": "stream",
     "text": [
      "welcome bob to python\n",
      "<s>welcome bob to python</s>\n"
     ]
    }
   ],
   "source": [
    "\"\"\"Example for decorator\"\"\"\n",
    "def display(name):\n",
    "    return f\"welcome {name} to python\"\n",
    "    #return \"welcome {} to python\".format(name)\n",
    "\n",
    "print(display('bob')) # produces an output - welcome bob to python\n",
    "# to improve the output of the above function something like below\n",
    "# <s>welcome bob to python</s>\n",
    "# a decorator is used\n",
    "\n",
    "def s_decorator(d): # d here will be reference of display\n",
    "    def inner_wrapper(name):\n",
    "        return \"<s>{}</s>\".format(d(name))\n",
    "    return inner_wrapper\n",
    "\n",
    "# in the function s_decorator the argument \n",
    "# 'd' is considered as reference of function to be improved\n",
    "# and the argument passed to inner_wrapper should be same as \n",
    "# that of argument passed to function to be improved\n",
    "\n",
    "# call s_decorator to get improved output\n",
    "#mydisplay = s_decorator(display)\n",
    "\n",
    "#print(mydisplay('bob')) # output will be <s>welcome bob to python</s>\n",
    "\n",
    "display = s_decorator(display)\n",
    "\n",
    "print(display('bob')) # output will be <s>welcome bob to python</s>"
   ]
  },
  {
   "cell_type": "code",
   "execution_count": null,
   "id": "4b2150d3",
   "metadata": {},
   "outputs": [],
   "source": []
  }
 ],
 "metadata": {
  "kernelspec": {
   "display_name": "Python 3 (ipykernel)",
   "language": "python",
   "name": "python3"
  },
  "language_info": {
   "codemirror_mode": {
    "name": "ipython",
    "version": 3
   },
   "file_extension": ".py",
   "mimetype": "text/x-python",
   "name": "python",
   "nbconvert_exporter": "python",
   "pygments_lexer": "ipython3",
   "version": "3.7.3"
  }
 },
 "nbformat": 4,
 "nbformat_minor": 5
}
