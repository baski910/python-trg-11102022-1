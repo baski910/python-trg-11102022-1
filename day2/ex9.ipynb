{
 "cells": [
  {
   "cell_type": "code",
   "execution_count": 2,
   "id": "d39f82a4",
   "metadata": {},
   "outputs": [
    {
     "name": "stdout",
     "output_type": "stream",
     "text": [
      "thread 1 is going to sleep for 1 seconds\n",
      "thread 2 is going to sleep for 2 seconds\n",
      "thread 3 is going to sleep for 3 seconds\n",
      "thread 4 is going to sleep for 4 seconds\n",
      "thread 5 is going to sleep for 5 seconds\n",
      "thread 6 is going to sleep for 6 seconds\n",
      "thread 7 is going to sleep for 7 seconds\n",
      "thread 8 is going to sleep for 8 seconds\n",
      "thread 9 is going to sleep for 9 seconds\n",
      "thread 10 is going to sleep for 10 seconds\n",
      "[<_MainThread(MainThread, started 140321458739008)>, <Thread(IOPub, started daemon 140321362499328)>, <Heartbeat(Heartbeat, started daemon 140321279178496)>, <Thread(Thread-3, started daemon 140321254000384)>, <Thread(Thread-4, started daemon 140321245607680)>, <ControlThread(Control, started daemon 140321237214976)>, <HistorySavingThread(IPythonHistorySavingThread, started 140321228822272)>, <ParentPollerUnix(Thread-2, started daemon 140320809416448)>, <Thread(Thread-6, started 140320801023744)>, <Thread(Thread-7, started 140320792631040)>, <Thread(Thread-8, started 140320784238336)>, <Thread(Thread-9, started 140320775845632)>, <Thread(Thread-10, started 140320767452928)>, <Thread(Thread-11, started 140320759060224)>, <Thread(Thread-12, started 140320205436672)>, <Thread(Thread-13, started 140320197043968)>, <Thread(Thread-14, started 140320188651264)>, <Thread(Thread-15, started 140320180258560)>]\n",
      "Done!!!\n",
      "thread 1 got completed\n",
      "thread 2 got completed\n",
      "thread 3 got completed\n",
      "thread 4 got completed\n",
      "thread 5 got completed\n",
      "thread 6 got completed\n",
      "thread 7 got completed\n",
      "thread 8 got completed\n",
      "thread 9 got completed\n",
      "thread 10 got completed\n"
     ]
    }
   ],
   "source": [
    "import threading\n",
    "import time\n",
    "\n",
    "def sleeper(n):\n",
    "    print(\"thread {} is going to sleep for {} seconds\".format(n,n))\n",
    "    time.sleep(n)\n",
    "    print(\"thread {} got completed\".format(n))\n",
    "\n",
    "threads = []\n",
    "for i in range(1,11):\n",
    "    t1 = threading.Thread(target=sleeper,args=(i,))\n",
    "    threads.append(t1)\n",
    "\n",
    "for thr in threads:\n",
    "    thr.start()\n",
    "    \n",
    "print(threading.enumerate())\n",
    "\n",
    "print(\"Done!!!\")"
   ]
  },
  {
   "cell_type": "code",
   "execution_count": null,
   "id": "e0b8f13c",
   "metadata": {},
   "outputs": [],
   "source": []
  }
 ],
 "metadata": {
  "kernelspec": {
   "display_name": "Python 3 (ipykernel)",
   "language": "python",
   "name": "python3"
  },
  "language_info": {
   "codemirror_mode": {
    "name": "ipython",
    "version": 3
   },
   "file_extension": ".py",
   "mimetype": "text/x-python",
   "name": "python",
   "nbconvert_exporter": "python",
   "pygments_lexer": "ipython3",
   "version": "3.7.3"
  }
 },
 "nbformat": 4,
 "nbformat_minor": 5
}
