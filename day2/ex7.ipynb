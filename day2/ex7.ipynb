{
 "cells": [
  {
   "cell_type": "code",
   "execution_count": 1,
   "id": "f9161219",
   "metadata": {},
   "outputs": [
    {
     "name": "stdout",
     "output_type": "stream",
     "text": [
      "<s>welcome bob to python</s>\n"
     ]
    }
   ],
   "source": [
    "\"\"\"Example for decorator - usage \"\"\"\n",
    "\n",
    "def s_decorator(d): # d here will be reference of display\n",
    "    def inner_wrapper(name):\n",
    "        return \"<s>{}</s>\".format(d(name))\n",
    "    return inner_wrapper\n",
    "\n",
    "@s_decorator # display = s_decorator(display)\n",
    "def display(name):\n",
    "    return f\"welcome {name} to python\"\n",
    "    #return \"welcome {} to python\".format(name)\n",
    "    \n",
    "print(display('bob'))"
   ]
  },
  {
   "cell_type": "code",
   "execution_count": 10,
   "id": "8a15ffa4",
   "metadata": {},
   "outputs": [
    {
     "name": "stdout",
     "output_type": "stream",
     "text": [
      "{\"tom\": {\"name\": \"tom\", \"mark\": \"70\", \"subject\": \"maths\"}, \"pat\": {\"name\": \"pat\", \"mark\": \"68\", \"subject\": \"science\"}, \"bob\": {\"name\": \"bob\", \"mark\": \"71\", \"subject\": \"english\"}}\n"
     ]
    }
   ],
   "source": [
    "def j_decorator(g):\n",
    "    import json\n",
    "    def inner_wrapper(filename):\n",
    "        data =  g(filename).split('\\n')\n",
    "        header = data.pop(0).split(',')\n",
    "        d1 = {}\n",
    "        for d in data:\n",
    "            lines = d.split(',')\n",
    "            d1.setdefault(lines[0], dict(zip(header,lines)))\n",
    "        return json.dumps(d1)\n",
    "    return inner_wrapper\n",
    "    \n",
    "    \n",
    "@j_decorator\n",
    "def getcontent(filename):\n",
    "    content = ''\n",
    "    with(open(filename,'r')) as inputfile:\n",
    "        content = inputfile.read()\n",
    "    return content\n",
    "    \n",
    "print(getcontent('marks.csv'))"
   ]
  },
  {
   "cell_type": "code",
   "execution_count": null,
   "id": "f10d8406",
   "metadata": {},
   "outputs": [],
   "source": []
  }
 ],
 "metadata": {
  "kernelspec": {
   "display_name": "Python 3 (ipykernel)",
   "language": "python",
   "name": "python3"
  },
  "language_info": {
   "codemirror_mode": {
    "name": "ipython",
    "version": 3
   },
   "file_extension": ".py",
   "mimetype": "text/x-python",
   "name": "python",
   "nbconvert_exporter": "python",
   "pygments_lexer": "ipython3",
   "version": "3.7.3"
  }
 },
 "nbformat": 4,
 "nbformat_minor": 5
}
