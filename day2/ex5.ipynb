{
 "cells": [
  {
   "cell_type": "code",
   "execution_count": 8,
   "id": "8a63fdf2",
   "metadata": {},
   "outputs": [
    {
     "name": "stdout",
     "output_type": "stream",
     "text": [
      "10\n",
      "20\n",
      "30\n",
      "40\n",
      "50\n"
     ]
    }
   ],
   "source": [
    "\"\"\"Example for iterable and iterator\"\"\"\n",
    "list1 = [10,20,30,40,50]\n",
    "\n",
    "# iterate over list\n",
    "#for num in list1:\n",
    "#    print(num)\n",
    "\n",
    "# create an iterator using iter method\n",
    "ia = iter(list1)\n",
    "\n",
    "#print(next(ia)) # print(ia.__next__())\n",
    "#print(next(ia)) # print(ia.__next__())\n",
    "#print(next(ia)) # print(ia.__next__())\n",
    "#print(next(ia)) # print(ia.__next__())\n",
    "#print(next(ia)) # print(ia.__next__())\n",
    "#print(next(ia)) # print(ia.__next__())\n",
    "\n",
    "while True:\n",
    "    try:\n",
    "        print(next(ia))\n",
    "    except StopIteration:\n",
    "        break"
   ]
  },
  {
   "cell_type": "code",
   "execution_count": 10,
   "id": "74d2a655",
   "metadata": {},
   "outputs": [
    {
     "name": "stdout",
     "output_type": "stream",
     "text": [
      "1\n",
      "2\n",
      "3\n"
     ]
    }
   ],
   "source": [
    "def gensequence():\n",
    "    #return 1\n",
    "    #return 2\n",
    "    #return 3\n",
    "    yield 1\n",
    "    yield 2\n",
    "    yield 3\n",
    "\n",
    "for num in gensequence():\n",
    "    print(num)"
   ]
  },
  {
   "cell_type": "code",
   "execution_count": 15,
   "id": "e837ec24",
   "metadata": {},
   "outputs": [
    {
     "name": "stdout",
     "output_type": "stream",
     "text": [
      "190\n"
     ]
    }
   ],
   "source": [
    "def findsum(n):\n",
    "    nums = 0\n",
    "    while nums < n:\n",
    "        yield nums\n",
    "        nums += 1\n",
    "        \n",
    "numbers = [x for x in range(20)]\n",
    "\n",
    "#for num1 in numbers:\n",
    "#    print(num1,end='\\t')\n",
    "#print(\"\\n\")\n",
    "#for num2 in findsum(20):\n",
    "#    print(num2,end='\\t')\n",
    "\n",
    "total = sum(findsum(20000000))\n",
    "\n",
    "print(total)"
   ]
  },
  {
   "cell_type": "code",
   "execution_count": null,
   "id": "3625e373",
   "metadata": {},
   "outputs": [],
   "source": []
  }
 ],
 "metadata": {
  "kernelspec": {
   "display_name": "Python 3 (ipykernel)",
   "language": "python",
   "name": "python3"
  },
  "language_info": {
   "codemirror_mode": {
    "name": "ipython",
    "version": 3
   },
   "file_extension": ".py",
   "mimetype": "text/x-python",
   "name": "python",
   "nbconvert_exporter": "python",
   "pygments_lexer": "ipython3",
   "version": "3.7.3"
  }
 },
 "nbformat": 4,
 "nbformat_minor": 5
}
