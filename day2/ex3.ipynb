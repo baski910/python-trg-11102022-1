{
 "cells": [
  {
   "cell_type": "code",
   "execution_count": 5,
   "id": "fc8d14e7",
   "metadata": {},
   "outputs": [
    {
     "name": "stdout",
     "output_type": "stream",
     "text": [
      "64\n",
      "<function square at 0x7f1e9834a6a8>\n",
      "<function square at 0x7f1e9834a6a8>\n",
      "169\n"
     ]
    }
   ],
   "source": [
    "\"\"\"Example for first class function\"\"\"\n",
    "\n",
    "def square(x):\n",
    "    return x*x\n",
    "\n",
    "print(square(8)) # output will be 64\n",
    "\n",
    "print(square) # displays some hexadecimal value\n",
    "\n",
    "ref1 = square\n",
    "\n",
    "print(ref1) # displays reference of square\n",
    "\n",
    "print(ref1(13))"
   ]
  },
  {
   "cell_type": "code",
   "execution_count": 7,
   "id": "4e52148f",
   "metadata": {},
   "outputs": [
    {
     "name": "stdout",
     "output_type": "stream",
     "text": [
      "<function <lambda> at 0x7f1e9834a598>\n",
      "100\n"
     ]
    }
   ],
   "source": [
    "# lambda p1,p2,p3,.... : process\n",
    "g = lambda x: x*x\n",
    "\n",
    "print(g)\n",
    "\n",
    "print(g(10))"
   ]
  },
  {
   "cell_type": "code",
   "execution_count": null,
   "id": "0cbdcbcb",
   "metadata": {},
   "outputs": [],
   "source": []
  }
 ],
 "metadata": {
  "kernelspec": {
   "display_name": "Python 3 (ipykernel)",
   "language": "python",
   "name": "python3"
  },
  "language_info": {
   "codemirror_mode": {
    "name": "ipython",
    "version": 3
   },
   "file_extension": ".py",
   "mimetype": "text/x-python",
   "name": "python",
   "nbconvert_exporter": "python",
   "pygments_lexer": "ipython3",
   "version": "3.7.3"
  }
 },
 "nbformat": 4,
 "nbformat_minor": 5
}
