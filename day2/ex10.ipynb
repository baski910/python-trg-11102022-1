{
 "cells": [
  {
   "cell_type": "code",
   "execution_count": null,
   "id": "950ade0c",
   "metadata": {},
   "outputs": [
    {
     "name": "stdout",
     "output_type": "stream",
     "text": [
      "Entering thread Thread-1\n",
      "Thread-1:Wed Oct 12 15:58:47 2022\n",
      "Entering thread Thread-2\n",
      "Thread-2:Wed Oct 12 15:58:47 2022\n"
     ]
    }
   ],
   "source": [
    "import threading\n",
    "import time\n",
    "\n",
    "class CustomThread(threading.Thread):\n",
    "    def __init__(self,id,name,timegap):\n",
    "        threading.Thread.__init__(self)\n",
    "        self.id = id\n",
    "        self.name = name\n",
    "        self.timegap = timegap\n",
    "        \n",
    "    def run(self):\n",
    "        print(\"Entering thread {}\".format(self.name))\n",
    "        print_time(self.name,self.timegap,5)\n",
    "        print(\"Exiting thread {}\".format(self.name))\n",
    "\n",
    "def print_time(name,delay,counter):\n",
    "    while counter:\n",
    "        print(\"{}:{}\".format(name,time.ctime(time.time())))\n",
    "        time.sleep(delay)\n",
    "        counter -= 1\n",
    "        \n",
    "t1 = CustomThread(1,'Thread-1',1)\n",
    "t2 = CustomThread(2,'Thread-2',2)\n",
    "\n",
    "t1.start()\n",
    "t2.start()\n",
    "\n",
    "t1.join() # ensures main thread block till the completion of current thread\n",
    "t2.join() # ensures main thread block till the completion of current thread\n",
    "\n",
    "print(\"From Main !!!\")"
   ]
  },
  {
   "cell_type": "code",
   "execution_count": null,
   "id": "b14e73c1",
   "metadata": {},
   "outputs": [],
   "source": []
  }
 ],
 "metadata": {
  "kernelspec": {
   "display_name": "Python 3 (ipykernel)",
   "language": "python",
   "name": "python3"
  },
  "language_info": {
   "codemirror_mode": {
    "name": "ipython",
    "version": 3
   },
   "file_extension": ".py",
   "mimetype": "text/x-python",
   "name": "python",
   "nbconvert_exporter": "python",
   "pygments_lexer": "ipython3",
   "version": "3.7.3"
  }
 },
 "nbformat": 4,
 "nbformat_minor": 5
}
