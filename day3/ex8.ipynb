{
 "cells": [
  {
   "cell_type": "code",
   "execution_count": 1,
   "id": "5c579eb7",
   "metadata": {},
   "outputs": [],
   "source": [
    "# adding sheet to an existing excel file\n",
    "\n",
    "import pandas as pd\n",
    "import numpy as np\n",
    "# xlrd  (.xls)\n",
    "from openpyxl import load_workbook\n",
    "\n",
    "book = load_workbook('test1.xlsx')\n",
    "writer = pd.ExcelWriter('test1.xlsx')\n",
    "writer.book = book\n",
    "\n",
    "x3 = np.random.randn(50,2)\n",
    "df1 = pd.DataFrame(x3)\n",
    "\n",
    "df1.to_excel(writer,sheet_name='x3')\n",
    "\n",
    "writer.save()"
   ]
  },
  {
   "cell_type": "code",
   "execution_count": null,
   "id": "0243dc16",
   "metadata": {},
   "outputs": [],
   "source": []
  }
 ],
 "metadata": {
  "kernelspec": {
   "display_name": "Python 3 (ipykernel)",
   "language": "python",
   "name": "python3"
  },
  "language_info": {
   "codemirror_mode": {
    "name": "ipython",
    "version": 3
   },
   "file_extension": ".py",
   "mimetype": "text/x-python",
   "name": "python",
   "nbconvert_exporter": "python",
   "pygments_lexer": "ipython3",
   "version": "3.7.3"
  }
 },
 "nbformat": 4,
 "nbformat_minor": 5
}
