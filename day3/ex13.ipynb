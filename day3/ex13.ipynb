{
 "cells": [
  {
   "cell_type": "code",
   "execution_count": 1,
   "id": "0efca1c7",
   "metadata": {},
   "outputs": [
    {
     "name": "stdout",
     "output_type": "stream",
     "text": [
      "    name  age  mark\n",
      "0    sam   21    65\n",
      "1    bob   20    78\n",
      "2    pat   21    93\n",
      "3    raj   20    81\n",
      "4    joe   21    89\n",
      "5    tom   21    63\n",
      "6  alice   20    58\n"
     ]
    }
   ],
   "source": [
    "# classification example\n",
    "import pandas as pd\n",
    "\n",
    "data = {\n",
    "    'name': ['sam','bob','pat','raj','joe','tom','alice'],\n",
    "    'age': [21,20,21,20,21,21,20],\n",
    "    'mark': [65,78,93,81,89,63,58]\n",
    "}\n",
    "\n",
    "df = pd.DataFrame(data)\n",
    "\n",
    "print(df)"
   ]
  },
  {
   "cell_type": "code",
   "execution_count": 3,
   "id": "5755ea93",
   "metadata": {},
   "outputs": [
    {
     "name": "stdout",
     "output_type": "stream",
     "text": [
      "    name  age  mark grade\n",
      "0    sam   21    65     B\n",
      "1    bob   20    78     B\n",
      "2    pat   21    93     A\n",
      "3    raj   20    81     A\n",
      "4    joe   21    89     A\n",
      "5    tom   21    63     B\n",
      "6  alice   20    58     C\n"
     ]
    }
   ],
   "source": [
    "import numpy as np\n",
    "# cut takes dataframe column, range, label\n",
    "df['grade'] = pd.cut(df['mark'],bins=[-np.inf,60,80,100],labels=['C','B','A'])\n",
    "\n",
    "print(df)"
   ]
  },
  {
   "cell_type": "code",
   "execution_count": null,
   "id": "a45a8e2c",
   "metadata": {},
   "outputs": [],
   "source": []
  }
 ],
 "metadata": {
  "kernelspec": {
   "display_name": "Python 3 (ipykernel)",
   "language": "python",
   "name": "python3"
  },
  "language_info": {
   "codemirror_mode": {
    "name": "ipython",
    "version": 3
   },
   "file_extension": ".py",
   "mimetype": "text/x-python",
   "name": "python",
   "nbconvert_exporter": "python",
   "pygments_lexer": "ipython3",
   "version": "3.7.3"
  }
 },
 "nbformat": 4,
 "nbformat_minor": 5
}
