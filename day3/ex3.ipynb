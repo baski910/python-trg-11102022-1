{
 "cells": [
  {
   "cell_type": "code",
   "execution_count": 6,
   "id": "e5130b18",
   "metadata": {},
   "outputs": [
    {
     "name": "stdout",
     "output_type": "stream",
     "text": [
      "value: 0\n",
      "value: 1\n",
      "value: 2\n",
      "value: 3\n",
      "value: 4\n"
     ]
    }
   ],
   "source": [
    "import threading\n",
    "import queue\n",
    "import time\n",
    "class CustomThread(threading.Thread):\n",
    "    def __init__(self,num,q):\n",
    "        threading.Thread.__init__(self)\n",
    "        self.num = num\n",
    "        self.q = q\n",
    "        \n",
    "    def run(self):\n",
    "        val = \"value: \" + str(self.num)\n",
    "        self.q.put(val)\n",
    "        self.q.task_done()\n",
    "        \n",
    "q = queue.Queue()\n",
    "\n",
    "for i in range(5):\n",
    "    t = CustomThread(i,q)\n",
    "    t.start()\n",
    "    \n",
    "q.join()\n",
    "\n",
    "while not q.empty():\n",
    "    print(q.get())\n",
    "    time.sleep(2)"
   ]
  },
  {
   "cell_type": "code",
   "execution_count": 2,
   "id": "34b7690a",
   "metadata": {},
   "outputs": [],
   "source": [
    "import queue"
   ]
  },
  {
   "cell_type": "code",
   "execution_count": null,
   "id": "096fa179",
   "metadata": {},
   "outputs": [],
   "source": []
  }
 ],
 "metadata": {
  "kernelspec": {
   "display_name": "Python 3 (ipykernel)",
   "language": "python",
   "name": "python3"
  },
  "language_info": {
   "codemirror_mode": {
    "name": "ipython",
    "version": 3
   },
   "file_extension": ".py",
   "mimetype": "text/x-python",
   "name": "python",
   "nbconvert_exporter": "python",
   "pygments_lexer": "ipython3",
   "version": "3.7.3"
  }
 },
 "nbformat": 4,
 "nbformat_minor": 5
}
