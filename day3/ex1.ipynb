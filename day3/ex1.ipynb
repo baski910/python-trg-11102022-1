{
 "cells": [
  {
   "cell_type": "code",
   "execution_count": 1,
   "id": "bb3d65e4",
   "metadata": {},
   "outputs": [
    {
     "name": "stdout",
     "output_type": "stream",
     "text": [
      "Worker process id for 1: 12169Worker process id for 4: 12172Worker process id for 3: 12171\n",
      "Worker process id for 2: 12170\n",
      "\n",
      "\n",
      "Worker process id for 5: 12169\n",
      "[1, 4, 9, 16, 25]\n"
     ]
    }
   ],
   "source": [
    "import multiprocessing \n",
    "import os \n",
    "  \n",
    "def square(n): \n",
    "    print(\"Worker process id for {0}: {1}\".format(n, os.getpid())) \n",
    "    return (n*n) \n",
    "  \n",
    "if __name__ == \"__main__\": \n",
    "    # input list \n",
    "    mylist = [1,2,3,4,5] \n",
    "  \n",
    "    # creating a pool object \n",
    "    p = multiprocessing.Pool() \n",
    "  \n",
    "    # map list to target function \n",
    "    result = p.map(square, mylist) \n",
    "\n",
    "    p.close()\n",
    "  \n",
    "    print(result)"
   ]
  },
  {
   "cell_type": "code",
   "execution_count": null,
   "id": "10ed9ade",
   "metadata": {},
   "outputs": [],
   "source": []
  }
 ],
 "metadata": {
  "kernelspec": {
   "display_name": "Python 3 (ipykernel)",
   "language": "python",
   "name": "python3"
  },
  "language_info": {
   "codemirror_mode": {
    "name": "ipython",
    "version": 3
   },
   "file_extension": ".py",
   "mimetype": "text/x-python",
   "name": "python",
   "nbconvert_exporter": "python",
   "pygments_lexer": "ipython3",
   "version": "3.7.3"
  }
 },
 "nbformat": 4,
 "nbformat_minor": 5
}
