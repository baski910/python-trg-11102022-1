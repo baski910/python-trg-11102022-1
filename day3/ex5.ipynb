{
 "cells": [
  {
   "cell_type": "code",
   "execution_count": 1,
   "id": "60adaf7f",
   "metadata": {},
   "outputs": [
    {
     "name": "stdout",
     "output_type": "stream",
     "text": [
      "collection\n"
     ]
    }
   ],
   "source": [
    "# xml parsing\n",
    "\n",
    "import xml.etree.ElementTree as ET\n",
    "\n",
    "tree = ET.parse('movies.xml')\n",
    "\n",
    "root = tree.getroot()\n",
    "\n",
    "print(root.tag)"
   ]
  },
  {
   "cell_type": "code",
   "execution_count": 2,
   "id": "4cdd2b8c",
   "metadata": {},
   "outputs": [
    {
     "name": "stdout",
     "output_type": "stream",
     "text": [
      "genre {'category': 'Action'}\n",
      "genre {'category': 'Thriller'}\n"
     ]
    }
   ],
   "source": [
    "for child in root:\n",
    "    print(child.tag, child.attrib)"
   ]
  },
  {
   "cell_type": "code",
   "execution_count": 3,
   "id": "c0e964cc",
   "metadata": {},
   "outputs": [
    {
     "name": "stdout",
     "output_type": "stream",
     "text": [
      "collection\n",
      "genre\n",
      "decade\n",
      "movie\n",
      "format\n",
      "year\n",
      "rating\n",
      "description\n",
      "movie\n",
      "format\n",
      "year\n",
      "rating\n",
      "description\n",
      "movie\n",
      "format\n",
      "year\n",
      "rating\n",
      "description\n",
      "decade\n",
      "movie\n",
      "format\n",
      "year\n",
      "rating\n",
      "description\n",
      "movie\n",
      "format\n",
      "year\n",
      "rating\n",
      "description\n",
      "movie\n",
      "format\n",
      "year\n",
      "rating\n",
      "description\n",
      "genre\n",
      "decade\n",
      "movie\n",
      "format\n",
      "year\n",
      "rating\n",
      "description\n",
      "decade\n",
      "movie\n",
      "format\n",
      "year\n",
      "rating\n",
      "description\n",
      "movie\n",
      "format\n",
      "year\n",
      "rating\n",
      "description\n"
     ]
    }
   ],
   "source": [
    "# get all elements from root node\n",
    "for element in root.iter():\n",
    "    print(element.tag)"
   ]
  },
  {
   "cell_type": "code",
   "execution_count": 4,
   "id": "80cb3c19",
   "metadata": {},
   "outputs": [
    {
     "name": "stdout",
     "output_type": "stream",
     "text": [
      "movie {'favorite': 'True', 'title': 'Indiana Jones: The raiders of the lost Ark'}\n",
      "movie {'favorite': 'True', 'title': 'THE KARATE KID'}\n",
      "movie {'favorite': 'False', 'title': 'Back 2 the Future'}\n",
      "movie {'favorite': 'False', 'title': 'X-Men'}\n",
      "movie {'favorite': 'True', 'title': 'Batman Returns'}\n",
      "movie {'favorite': 'False', 'title': 'Reservoir Dogs'}\n",
      "movie {'favorite': 'False', 'title': 'ALIEN'}\n",
      "movie {'favorite': 'True', 'title': \"Ferris Bueller's Day Off\"}\n",
      "movie {'favorite': 'FALSE', 'title': 'American Psycho'}\n"
     ]
    }
   ],
   "source": [
    "# get selective node\n",
    "for element in root.iter('movie'):\n",
    "    print(element.tag,element.attrib)"
   ]
  },
  {
   "cell_type": "code",
   "execution_count": 5,
   "id": "63043e92",
   "metadata": {},
   "outputs": [
    {
     "name": "stdout",
     "output_type": "stream",
     "text": [
      "description \n",
      "                'Archaeologist and adventurer Indiana Jones \n",
      "                is hired by the U.S. government to find the Ark of the \n",
      "                Covenant before the Nazis.'\n",
      "                \n",
      "description None provided.\n",
      "description Marty McFly\n",
      "description Two mutants come to a private academy for their kind whose resident superhero team must \n",
      "               oppose a terrorist organization with similar powers.\n",
      "description NA.\n",
      "description WhAtEvER I Want!!!?!\n",
      "description \"\"\"\"\"\"\"\"\"\n",
      "description Funny movie about a funny guy\n",
      "description psychopathic Bateman\n"
     ]
    }
   ],
   "source": [
    "# get selective node\n",
    "for element in root.iter('description'):\n",
    "    print(element.tag,element.text)"
   ]
  },
  {
   "cell_type": "code",
   "execution_count": 6,
   "id": "a7186dcb",
   "metadata": {},
   "outputs": [
    {
     "name": "stdout",
     "output_type": "stream",
     "text": [
      "movie {'favorite': 'True', 'title': 'Batman Returns'}\n",
      "movie {'favorite': 'False', 'title': 'Reservoir Dogs'}\n"
     ]
    }
   ],
   "source": [
    "for child in root.findall(\"./genre/decade/movie/[year='1992']\"):\n",
    "    print(child.tag,child.attrib)"
   ]
  },
  {
   "cell_type": "code",
   "execution_count": null,
   "id": "69463925",
   "metadata": {},
   "outputs": [],
   "source": []
  }
 ],
 "metadata": {
  "kernelspec": {
   "display_name": "Python 3 (ipykernel)",
   "language": "python",
   "name": "python3"
  },
  "language_info": {
   "codemirror_mode": {
    "name": "ipython",
    "version": 3
   },
   "file_extension": ".py",
   "mimetype": "text/x-python",
   "name": "python",
   "nbconvert_exporter": "python",
   "pygments_lexer": "ipython3",
   "version": "3.7.3"
  }
 },
 "nbformat": 4,
 "nbformat_minor": 5
}
