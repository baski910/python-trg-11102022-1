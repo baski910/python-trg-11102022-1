{
 "cells": [
  {
   "cell_type": "code",
   "execution_count": 1,
   "id": "8457b8de",
   "metadata": {},
   "outputs": [
    {
     "name": "stdout",
     "output_type": "stream",
     "text": [
      "                              Price\n",
      "Manager       Rep                  \n",
      "Debra Henley  Craig Booker    80000\n",
      "              Daniel Hilton  115000\n",
      "              John Smith      40000\n",
      "Fred Anderson Cedric Moss    110000\n",
      "              Wendy Yule     177000\n"
     ]
    }
   ],
   "source": [
    "# pivot table example\n",
    "\n",
    "import pandas as pd\n",
    "\n",
    "\n",
    "df = pd.read_excel('sales.xlsx')\n",
    "\n",
    "print(pd.pivot_table(df,index=[\"Manager\",\"Rep\"],values=\"Price\",aggfunc=sum))"
   ]
  },
  {
   "cell_type": "code",
   "execution_count": 2,
   "id": "95a74d3c",
   "metadata": {},
   "outputs": [
    {
     "name": "stdout",
     "output_type": "stream",
     "text": [
      "                                sum          mean\n",
      "                              Price         Price\n",
      "Manager       Rep                                \n",
      "Debra Henley  Craig Booker    80000  20000.000000\n",
      "              Daniel Hilton  115000  38333.333333\n",
      "              John Smith      40000  20000.000000\n",
      "Fred Anderson Cedric Moss    110000  27500.000000\n",
      "              Wendy Yule     177000  44250.000000\n"
     ]
    }
   ],
   "source": [
    "import numpy as np\n",
    "print(pd.pivot_table(df,index=[\"Manager\",\"Rep\"],values=\"Price\",aggfunc=[sum,np.mean]))"
   ]
  },
  {
   "cell_type": "code",
   "execution_count": null,
   "id": "61142b90",
   "metadata": {},
   "outputs": [],
   "source": []
  }
 ],
 "metadata": {
  "kernelspec": {
   "display_name": "Python 3 (ipykernel)",
   "language": "python",
   "name": "python3"
  },
  "language_info": {
   "codemirror_mode": {
    "name": "ipython",
    "version": 3
   },
   "file_extension": ".py",
   "mimetype": "text/x-python",
   "name": "python",
   "nbconvert_exporter": "python",
   "pygments_lexer": "ipython3",
   "version": "3.7.3"
  }
 },
 "nbformat": 4,
 "nbformat_minor": 5
}
