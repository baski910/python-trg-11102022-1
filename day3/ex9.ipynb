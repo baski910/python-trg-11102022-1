{
 "cells": [
  {
   "cell_type": "code",
   "execution_count": 2,
   "id": "34cf1bc7",
   "metadata": {},
   "outputs": [
    {
     "name": "stdout",
     "output_type": "stream",
     "text": [
      "id                                                      NaN\n",
      "first_name                                               Mi\n",
      "last_name                                            Richan\n",
      "company_name                 Nelson Wright Haworth Golf Crs\n",
      "address                                     6 Norwood Grove\n",
      "city                                      Tanworth-in-Arden\n",
      "county                                         Warwickshire\n",
      "postal                                              B94 5RZ\n",
      "phone1                                         01451-785624\n",
      "phone2                                         01202-738406\n",
      "email                                        mi@hotmail.com\n",
      "web             http://www.nelsonwrighthaworthgolfcrs.co.uk\n",
      "in                                                     9:36\n",
      "out                                                     NaN\n",
      "Name: 499, dtype: object\n"
     ]
    }
   ],
   "source": [
    "# iloc - filtering based on row index or column index\n",
    "# loc - filtering based on row values\n",
    "\n",
    "import pandas as pd\n",
    "\n",
    "df = pd.read_csv('uk-500.csv')\n",
    "\n",
    "#print(df.iloc[0]) # get the first row\n",
    "\n",
    "print(df.iloc[-1]) # get the last row"
   ]
  },
  {
   "cell_type": "code",
   "execution_count": null,
   "id": "5e8bcd40",
   "metadata": {},
   "outputs": [],
   "source": [
    "print(df.iloc[8:15]) #get range rows"
   ]
  },
  {
   "cell_type": "code",
   "execution_count": 4,
   "id": "66811218",
   "metadata": {},
   "outputs": [
    {
     "name": "stdout",
     "output_type": "stream",
     "text": [
      "      id first_name   last_name                 company_name  \\\n",
      "9   10.0     Yuette      Klapec                    Max Video   \n",
      "23  24.0    Tamesha      Veigel          Wilhelm, James E Jr   \n",
      "35  36.0    Alethea       Mould         Hughlett, Henry T Jr   \n",
      "41  42.0    Marylin  Cornelison  Ernest E Heuer & Company Pc   \n",
      "58  59.0    Chantay      Kamens    Brewster Wallcoverings Co   \n",
      "75  76.0      Billy       Venus               Tipton & Hurst   \n",
      "\n",
      "                 address                  city          county    postal  \\\n",
      "9   45 Bradfield St #166               Parwich      Derbyshire   DE6 1QN   \n",
      "23    2200 Nelson St #58               Newport   Isle of Wight  PO30 5AL   \n",
      "35        6305 Elstow St           Castle Ward     West Sussex  BN12 6PR   \n",
      "41             39 Wye St  Wakefield North Ward  West Yorkshire   WF1 1DR   \n",
      "58      763 Parkfield Rd          Norton Canes   Staffordshire  WS11 9RH   \n",
      "75          61 Miriam St       Abbey Road Ward  Greater London   NW8 9BD   \n",
      "\n",
      "          phone1        phone2                         email  \\\n",
      "9   01903-649460  01933-512513    yuette.klapec@klapec.co.uk   \n",
      "23  01217-342071  01280-786847          tveigel@veigel.co.uk   \n",
      "35  01662-114247  01351-868965           alethea@hotmail.com   \n",
      "41  01609-882184  01295-331807  marylin_cornelison@yahoo.com   \n",
      "58  01823-383806  01245-146126           ckamens@hotmail.com   \n",
      "75  01537-356648  01703-435212         billy.venus@yahoo.com   \n",
      "\n",
      "                                         web    in  out  \n",
      "9                  http://www.maxvideo.co.uk  9:17  NaN  \n",
      "23          http://www.wilhelmjamesejr.co.uk  8:10  NaN  \n",
      "35         http://www.hughletthenrytjr.co.uk   9:1  NaN  \n",
      "41    http://www.ernesteheuercompanypc.co.uk  8:58  NaN  \n",
      "58  http://www.brewsterwallcoveringsco.co.uk  8:14  NaN  \n",
      "75              http://www.tiptonhurst.co.uk  8:11  NaN  \n"
     ]
    }
   ],
   "source": [
    "print(df.iloc[[9,23,35,41,58,75]]) #get selective rows"
   ]
  },
  {
   "cell_type": "code",
   "execution_count": 5,
   "id": "af0ed7f0",
   "metadata": {},
   "outputs": [
    {
     "name": "stdout",
     "output_type": "stream",
     "text": [
      "0        Aleshia\n",
      "1           Evan\n",
      "2         France\n",
      "3        Ulysses\n",
      "4         Tyisha\n",
      "         ...    \n",
      "495        Avery\n",
      "496         Reid\n",
      "497    Charlette\n",
      "498    Celestina\n",
      "499           Mi\n",
      "Name: first_name, Length: 500, dtype: object\n"
     ]
    }
   ],
   "source": [
    "# select using column index\n",
    "print(df.iloc[:,1]) # select only 2nd column"
   ]
  },
  {
   "cell_type": "code",
   "execution_count": 6,
   "id": "1b1245e5",
   "metadata": {},
   "outputs": [
    {
     "name": "stdout",
     "output_type": "stream",
     "text": [
      "    first_name   last_name                    company_name\n",
      "0      Aleshia  Tomkiewicz         Alan D Rosenburg Cpa Pc\n",
      "1         Evan   Zigomalas              Cap Gemini America\n",
      "2       France     Andrade             Elliott, John W Esq\n",
      "3      Ulysses   Mcwalters                  Mcmahan, Ben L\n",
      "4       Tyisha      Veness                  Champagne Room\n",
      "..         ...         ...                             ...\n",
      "495      Avery        Veit      Plaza Gourmet Delicatessen\n",
      "496       Reid     Euresti            Fitzgerald, Edward J\n",
      "497  Charlette    Brenning              Furey & Associates\n",
      "498  Celestina       Keeny        Bfg Federal Credit Union\n",
      "499         Mi      Richan  Nelson Wright Haworth Golf Crs\n",
      "\n",
      "[500 rows x 3 columns]\n"
     ]
    }
   ],
   "source": [
    "# select using range of columns\n",
    "print(df.iloc[:,1:4]) "
   ]
  },
  {
   "cell_type": "code",
   "execution_count": 7,
   "id": "c6b6fb7b",
   "metadata": {},
   "outputs": [
    {
     "name": "stdout",
     "output_type": "stream",
     "text": [
      "    first_name                            city           county        phone1\n",
      "0      Aleshia               St. Stephens Ward             Kent  01835-703597\n",
      "1         Evan                      Abbey Ward  Buckinghamshire  01937-864715\n",
      "2       France  East Southbourne and Tuckton W      Bournemouth  01347-368222\n",
      "3      Ulysses              Hawerby cum Beesby     Lincolnshire  01912-771311\n",
      "4       Tyisha      Greets Green and Lyng Ward    West Midlands  01547-429341\n",
      "..         ...                             ...              ...           ...\n",
      "495      Avery  Knightsbridge and Belgravia Wa   Greater London  01748-625058\n",
      "496       Reid        Inverness Ness-Side Ward         Highland  01916-963261\n",
      "497  Charlette                Darton West Ward  South Yorkshire  01888-152110\n",
      "498  Celestina                Consett North ED    County Durham  01877-379681\n",
      "499         Mi               Tanworth-in-Arden     Warwickshire  01451-785624\n",
      "\n",
      "[500 rows x 4 columns]\n"
     ]
    }
   ],
   "source": [
    "# get selective columns\n",
    "print(df.iloc[:,[1,5,6,8]]) "
   ]
  },
  {
   "cell_type": "code",
   "execution_count": 8,
   "id": "66d93556",
   "metadata": {},
   "outputs": [
    {
     "name": "stdout",
     "output_type": "stream",
     "text": [
      "     first_name  last_name                   company_name\n",
      "5          Eric      Rampy        Thompson, Michael C Esq\n",
      "6          Marg   Grasmick  Wrangle Hill Auto Auct & Slvg\n",
      "7       Laquita      Hisaw          In Communications Inc\n",
      "8          Lura   Manzella                Bizerba Usa Inc\n",
      "9        Yuette     Klapec                      Max Video\n",
      "10     Fernanda     Writer           K & R Associates Inc\n",
      "11  Charlesetta        Erm               Cain, John M Esq\n",
      "12     Corrinne      Jaret              Sound Vision Corp\n",
      "13       Niesha      Bruch         Rowley/hansell Petetin\n",
      "14       Rueben  Gastellum  Industrial Engineering Assocs\n"
     ]
    }
   ],
   "source": [
    "# get range of rows and columns\n",
    "print(df.iloc[5:15,1:4]) "
   ]
  },
  {
   "cell_type": "code",
   "execution_count": 9,
   "id": "2b893726",
   "metadata": {},
   "outputs": [
    {
     "name": "stdout",
     "output_type": "stream",
     "text": [
      "        id first_name  last_name                   company_name  \\\n",
      "6      7.0       Marg   Grasmick  Wrangle Hill Auto Auct & Slvg   \n",
      "36    37.0  Margurite  Loperfido     Penrose Place Pharmacy Inc   \n",
      "42    43.0     Marget      Gunst               Frankel, Stephen   \n",
      "61    62.0  Margarett      Bairo           Reid, Carleton B Esq   \n",
      "243  244.0     Margot       Peay              Bork, Terry D Esq   \n",
      "305    NaN    Margret    Alcazar   Advantage Title & Escrow Inc   \n",
      "355    NaN    Margery      Rohrs  C G Mccullough Insurance Agcy   \n",
      "443    NaN  Margarita    Orloski                     1893 Shops   \n",
      "\n",
      "                    address                         city             county  \\\n",
      "6          7457 Cowl St #70                 Bargate Ward        Southampton   \n",
      "36      218 Greenbank Drive                      Devizes          Wiltshire   \n",
      "42       2732 Bostock St #1                   St. Enoder           Cornwall   \n",
      "61              3 August Rd  Maybury and Sheerwater Ward             Surrey   \n",
      "243  9923 Dinorben St #4838             Childs Hill Ward     Greater London   \n",
      "305          5466 Sedley St        Coatbridge South Ward  North Lanarkshire   \n",
      "355          40 Peters Lane                 Long Preston    North Yorkshire   \n",
      "443           78 Pine Grove             Stannington Ward    South Yorkshire   \n",
      "\n",
      "       postal        phone1        phone2                        email  \\\n",
      "6    SO14 3TY  01865-582516  01362-620532             marg@hotmail.com   \n",
      "36   SN10 3DU  01407-866759  01640-661191         mloperfido@gmail.com   \n",
      "42    TR9 6NJ  01693-310794  01512-975244             mgunst@yahoo.com   \n",
      "61   GU21 5QL  01670-813697  01903-424890          margarett@gmail.com   \n",
      "243  NW11 8DY  01925-895879  01913-339706        margot.peay@yahoo.com   \n",
      "305   ML5 4LJ  01626-590776  01633-731246        margret@alcazar.co.uk   \n",
      "355  BD23 4NF  01634-340524  01933-273913          margery@hotmail.com   \n",
      "443    S6 5HE  01215-422453  01958-497953  margarita_orloski@yahoo.com   \n",
      "\n",
      "                                            web    in  out  \n",
      "6      http://www.wranglehillautoauctslvg.co.uk  8:28  NaN  \n",
      "36     http://www.penroseplacepharmacyinc.co.uk  9:33  NaN  \n",
      "42              http://www.frankelstephen.co.uk  8:22  NaN  \n",
      "61            http://www.reidcarletonbesq.co.uk   9:3  NaN  \n",
      "243              http://www.borkterrydesq.co.uk  9:29  NaN  \n",
      "305    http://www.advantagetitleescrowinc.co.uk  8:54  NaN  \n",
      "355  http://www.cgmcculloughinsuranceagcy.co.uk  8:58  NaN  \n",
      "443                      http://www.shops.co.uk  8:45  NaN  \n"
     ]
    }
   ],
   "source": [
    "print(df.loc[df['first_name'].str.contains('Marg')])"
   ]
  },
  {
   "cell_type": "code",
   "execution_count": 10,
   "id": "d879373d",
   "metadata": {},
   "outputs": [
    {
     "name": "stdout",
     "output_type": "stream",
     "text": [
      "        id first_name  last_name                    company_name  \\\n",
      "100  101.0    Latosha      Alexy         Laitinen, Stephen B Esq   \n",
      "101  102.0     Alexia     Meenan                  Herr Foods Inc   \n",
      "102  103.0     Graham   Stanwick   Tiburon Pen Chmbr Commrce Inc   \n",
      "103  104.0    Elinore      Fulda  Agri Business Insurance Agency   \n",
      "104  105.0    Lisbeth     Creecy       Gerstenfeld, Gerald F Esq   \n",
      "..     ...        ...        ...                             ...   \n",
      "195  196.0   Gabriele    Geschke   Levy Security Consultants Ltd   \n",
      "196  197.0       Kara    Jaquish                    El Adobe Inn   \n",
      "197  198.0      Kenny        Lin      Mcmahan Mcmahan & Brinkley   \n",
      "198  199.0     Vashti      Sugai           Accurate Engraving Co   \n",
      "199  200.0     Jordan  Handsaker           Shirleys Print Shoppe   \n",
      "\n",
      "                address                            city              county  \\\n",
      "100  37 Langham St #948           St. Georges Hill Ward              Surrey   \n",
      "101       94 Villars St                       Launcells            Cornwall   \n",
      "102     73 Hawkstone St  Renfrew South & Gallowhill War      Dunbartonshire   \n",
      "103       123 Sussex St              Astley Bridge Ward  Greater Manchester   \n",
      "104        484 Barry St                 Shiney Row Ward       County Durham   \n",
      "..                  ...                             ...                 ...   \n",
      "195    5 Garfield St #9               Milton Regis Ward                Kent   \n",
      "196     345 Feltwell Rd  St. Michaels and Wicksteed War    Northamptonshire   \n",
      "197         1 Towson St  Howe of Fife and Tay Coast War                Fife   \n",
      "198      4 Candia St #6               Shipston on Stour        Warwickshire   \n",
      "199       2 Cherry Lane               Strood South Ward                Kent   \n",
      "\n",
      "       postal        phone1        phone2                       email  \\\n",
      "100  KT13 0AZ  01704-508066  01662-268374           latosha@yahoo.com   \n",
      "101  EX23 9LG  01560-328739  01270-931388  alexia.meenan@meenan.co.uk   \n",
      "102   G52 4YG  01860-191930  01409-786106         gstanwick@gmail.com   \n",
      "103   BL1 6PY  01457-837447  01403-864306   elinore.fulda@fulda.co.uk   \n",
      "104   DH4 7RG  01931-620849  01825-623398           lcreecy@gmail.com   \n",
      "..        ...           ...           ...                         ...   \n",
      "195  ME10 2EJ  01404-425588  01902-692529      gabriele@geschke.co.uk   \n",
      "196  NN15 6BB  01691-316298  01503-303797              kara@yahoo.com   \n",
      "197  KY14 6AH  01753-900033  01473-417906             kenny@lin.co.uk   \n",
      "198  CV36 4HE  01311-723137  01528-551210            vashti@gmail.com   \n",
      "199   ME2 2NJ  01793-443665  01964-984369  jordan_handsaker@gmail.com   \n",
      "\n",
      "                                              web    in  out  \n",
      "100          http://www.laitinenstephenbesq.co.uk  9:25  NaN  \n",
      "101                 http://www.herrfoodsinc.co.uk  8:12  NaN  \n",
      "102    http://www.tiburonpenchmbrcommrceinc.co.uk   8:3  NaN  \n",
      "103  http://www.agribusinessinsuranceagency.co.uk   9:8  NaN  \n",
      "104        http://www.gerstenfeldgeraldfesq.co.uk  8:51  NaN  \n",
      "..                                            ...   ...  ...  \n",
      "195   http://www.levysecurityconsultantsltd.co.uk  8:21  NaN  \n",
      "196                   http://www.eladobeinn.co.uk  9:60  NaN  \n",
      "197       http://www.mcmahanmcmahanbrinkley.co.uk  8:29  NaN  \n",
      "198          http://www.accurateengravingco.co.uk   8:6  NaN  \n",
      "199          http://www.shirleysprintshoppe.co.uk  9:44  NaN  \n",
      "\n",
      "[100 rows x 14 columns]\n"
     ]
    }
   ],
   "source": [
    "print(df.loc[(df['id'] > 100) & (df['id'] <= 200)])"
   ]
  },
  {
   "cell_type": "code",
   "execution_count": 11,
   "id": "741fe88b",
   "metadata": {},
   "outputs": [
    {
     "name": "stdout",
     "output_type": "stream",
     "text": [
      "                       company_name             address  \\\n",
      "100         Laitinen, Stephen B Esq  37 Langham St #948   \n",
      "101                  Herr Foods Inc       94 Villars St   \n",
      "102   Tiburon Pen Chmbr Commrce Inc     73 Hawkstone St   \n",
      "103  Agri Business Insurance Agency       123 Sussex St   \n",
      "104       Gerstenfeld, Gerald F Esq        484 Barry St   \n",
      "..                              ...                 ...   \n",
      "195   Levy Security Consultants Ltd    5 Garfield St #9   \n",
      "196                    El Adobe Inn     345 Feltwell Rd   \n",
      "197      Mcmahan Mcmahan & Brinkley         1 Towson St   \n",
      "198           Accurate Engraving Co      4 Candia St #6   \n",
      "199           Shirleys Print Shoppe       2 Cherry Lane   \n",
      "\n",
      "                               city              county    postal  \n",
      "100           St. Georges Hill Ward              Surrey  KT13 0AZ  \n",
      "101                       Launcells            Cornwall  EX23 9LG  \n",
      "102  Renfrew South & Gallowhill War      Dunbartonshire   G52 4YG  \n",
      "103              Astley Bridge Ward  Greater Manchester   BL1 6PY  \n",
      "104                 Shiney Row Ward       County Durham   DH4 7RG  \n",
      "..                              ...                 ...       ...  \n",
      "195               Milton Regis Ward                Kent  ME10 2EJ  \n",
      "196  St. Michaels and Wicksteed War    Northamptonshire  NN15 6BB  \n",
      "197  Howe of Fife and Tay Coast War                Fife  KY14 6AH  \n",
      "198               Shipston on Stour        Warwickshire  CV36 4HE  \n",
      "199               Strood South Ward                Kent   ME2 2NJ  \n",
      "\n",
      "[100 rows x 5 columns]\n"
     ]
    }
   ],
   "source": [
    "print(df.loc[(df['id'] > 100) & (df['id'] <= 200), 'company_name':'postal'])"
   ]
  },
  {
   "cell_type": "code",
   "execution_count": 12,
   "id": "033d07d8",
   "metadata": {},
   "outputs": [
    {
     "name": "stdout",
     "output_type": "stream",
     "text": [
      "    first_name  last_name                       email\n",
      "100    Latosha      Alexy           latosha@yahoo.com\n",
      "101     Alexia     Meenan  alexia.meenan@meenan.co.uk\n",
      "102     Graham   Stanwick         gstanwick@gmail.com\n",
      "103    Elinore      Fulda   elinore.fulda@fulda.co.uk\n",
      "104    Lisbeth     Creecy           lcreecy@gmail.com\n",
      "..         ...        ...                         ...\n",
      "195   Gabriele    Geschke      gabriele@geschke.co.uk\n",
      "196       Kara    Jaquish              kara@yahoo.com\n",
      "197      Kenny        Lin             kenny@lin.co.uk\n",
      "198     Vashti      Sugai            vashti@gmail.com\n",
      "199     Jordan  Handsaker  jordan_handsaker@gmail.com\n",
      "\n",
      "[100 rows x 3 columns]\n"
     ]
    }
   ],
   "source": [
    "print(df.loc[(df['id'] > 100) & (df['id'] <= 200), ['first_name','last_name','email']])"
   ]
  },
  {
   "cell_type": "code",
   "execution_count": 13,
   "id": "af800253",
   "metadata": {},
   "outputs": [
    {
     "name": "stdout",
     "output_type": "stream",
     "text": [
      "      first_name  last_name                       email\n",
      "1           Evan  Zigomalas    evan.zigomalas@gmail.com\n",
      "11   Charlesetta        Erm   charlesetta_erm@gmail.com\n",
      "12      Corrinne      Jaret    corrinne_jaret@gmail.com\n",
      "29         Karma     Quarto           kquarto@gmail.com\n",
      "32         Milly    Savidge             milly@gmail.com\n",
      "..           ...        ...                         ...\n",
      "472          Mel   Picciuto      mel.picciuto@gmail.com\n",
      "480      Tijuana   Machalek  tijuana.machalek@gmail.com\n",
      "483      Derrick    Dolloff   derrick_dolloff@gmail.com\n",
      "494       Alesia      Katie      alesia_katie@gmail.com\n",
      "498    Celestina      Keeny   celestina_keeny@gmail.com\n",
      "\n",
      "[130 rows x 3 columns]\n"
     ]
    }
   ],
   "source": [
    "print(df.loc[df['email'].str.endswith('gmail.com'), ['first_name','last_name','email']])"
   ]
  },
  {
   "cell_type": "code",
   "execution_count": 14,
   "id": "2f18bc02",
   "metadata": {},
   "outputs": [
    {
     "name": "stdout",
     "output_type": "stream",
     "text": [
      "    id first_name last_name         company_name       address  \\\n",
      "2  3.0     France   Andrade  Elliott, John W Esq  8 Moor Place   \n",
      "\n",
      "                             city       county   postal        phone1  \\\n",
      "2  East Southbourne and Tuckton W  Bournemouth  BH6 3BE  01347-368222   \n",
      "\n",
      "         phone2                       email                               web  \\\n",
      "2  01935-821636  france.andrade@hotmail.com  http://www.elliottjohnwesq.co.uk   \n",
      "\n",
      "     in  out  \n",
      "2  9:46  NaN  \n"
     ]
    }
   ],
   "source": [
    "print(df.loc[df['first_name']=='France'])\n",
    "df.loc[df['first_name']=='France','last_name']='Andrew'\n"
   ]
  },
  {
   "cell_type": "code",
   "execution_count": null,
   "id": "935ae2de",
   "metadata": {},
   "outputs": [],
   "source": []
  }
 ],
 "metadata": {
  "kernelspec": {
   "display_name": "Python 3 (ipykernel)",
   "language": "python",
   "name": "python3"
  },
  "language_info": {
   "codemirror_mode": {
    "name": "ipython",
    "version": 3
   },
   "file_extension": ".py",
   "mimetype": "text/x-python",
   "name": "python",
   "nbconvert_exporter": "python",
   "pygments_lexer": "ipython3",
   "version": "3.7.3"
  }
 },
 "nbformat": 4,
 "nbformat_minor": 5
}
