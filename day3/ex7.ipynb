{
 "cells": [
  {
   "cell_type": "code",
   "execution_count": 5,
   "id": "2f287459",
   "metadata": {},
   "outputs": [
    {
     "name": "stdout",
     "output_type": "stream",
     "text": [
      "    id first_name   last_name             company_name            address  \\\n",
      "0  1.0    Aleshia  Tomkiewicz  Alan D Rosenburg Cpa Pc       14 Taylor St   \n",
      "1  2.0       Evan   Zigomalas       Cap Gemini America        5 Binney St   \n",
      "2  3.0     France     Andrade      Elliott, John W Esq       8 Moor Place   \n",
      "3  4.0    Ulysses   Mcwalters           Mcmahan, Ben L      505 Exeter Rd   \n",
      "4  5.0     Tyisha      Veness           Champagne Room  5396 Forth Street   \n",
      "\n",
      "                             city           county    postal        phone1  \\\n",
      "0               St. Stephens Ward             Kent   CT2 7PP  01835-703597   \n",
      "1                      Abbey Ward  Buckinghamshire  HP11 2AX  01937-864715   \n",
      "2  East Southbourne and Tuckton W      Bournemouth   BH6 3BE  01347-368222   \n",
      "3              Hawerby cum Beesby     Lincolnshire  DN36 5RP  01912-771311   \n",
      "4      Greets Green and Lyng Ward    West Midlands   B70 9DT  01547-429341   \n",
      "\n",
      "         phone2                       email  \\\n",
      "0  01944-369967     atomkiewicz@hotmail.com   \n",
      "1  01714-737668    evan.zigomalas@gmail.com   \n",
      "2  01935-821636  france.andrade@hotmail.com   \n",
      "3  01302-601380         ulysses@hotmail.com   \n",
      "4  01290-367248   tyisha.veness@hotmail.com   \n",
      "\n",
      "                                    web    in  out  \n",
      "0  http://www.alandrosenburgcpapc.co.uk   9:3  NaN  \n",
      "1     http://www.capgeminiamerica.co.uk  9:13  NaN  \n",
      "2      http://www.elliottjohnwesq.co.uk  9:46  NaN  \n",
      "3          http://www.mcmahanbenl.co.uk   9:4  NaN  \n",
      "4        http://www.champagneroom.co.uk   8:1  NaN  \n"
     ]
    }
   ],
   "source": [
    "# reading a csv file\n",
    "\n",
    "import pandas as pd\n",
    "\n",
    "df = pd.read_csv('uk-500.csv')\n",
    "\n",
    "print(df.head()) # returns 1st 5 rows\n",
    "\n",
    "#print(df.columns) # returns csv headers\n",
    "\n",
    "#w = pd.ExcelWriter('test.xlsx') # used for writing to excel sheet\n",
    "\n",
    "df.to_excel('test1.xlsx',index=False,skip_rows=)\n",
    "\n",
    "#w.save()"
   ]
  },
  {
   "cell_type": "code",
   "execution_count": 6,
   "id": "6e353149",
   "metadata": {},
   "outputs": [
    {
     "name": "stdout",
     "output_type": "stream",
     "text": [
      "[[-0.24743457 -1.54915562]\n",
      " [-1.29210664 -0.49908014]\n",
      " [-0.25699982  0.46198529]\n",
      " [-0.72200886  0.68373956]\n",
      " [-1.76689751  1.84687236]\n",
      " [-1.52254878 -0.28926833]\n",
      " [-0.71785938 -1.09817365]\n",
      " [ 0.08049769 -1.08456344]\n",
      " [ 0.59139778 -0.84814811]\n",
      " [-0.72390284  0.37798358]\n",
      " [ 0.1245793  -0.34495019]\n",
      " [-0.2334084   1.21483142]\n",
      " [-1.2832876  -0.33889459]\n",
      " [-0.16009294 -1.35228203]\n",
      " [ 0.1969387   0.20895866]\n",
      " [-1.57452477 -0.74706572]\n",
      " [-0.61205833 -0.15479331]\n",
      " [ 1.11718947 -0.34389748]\n",
      " [ 1.13247174  0.10058534]\n",
      " [ 0.41329579 -0.54690983]\n",
      " [ 0.6357928   0.36998782]\n",
      " [-0.47997175  0.69121798]\n",
      " [-0.2303221  -0.95127344]\n",
      " [ 0.63612573  0.35162559]\n",
      " [-0.28839187  0.95982648]\n",
      " [-1.55623706 -0.06570576]\n",
      " [ 0.03000518 -1.19040998]\n",
      " [ 2.39414145  0.32190452]\n",
      " [-1.68682314  0.25064811]\n",
      " [-0.05976673 -0.50152265]\n",
      " [-0.15861225  1.3878466 ]\n",
      " [ 0.98248862 -0.3079319 ]\n",
      " [ 0.17844423  0.78419131]\n",
      " [-0.72431745 -0.67217899]\n",
      " [ 1.02696418  0.76832034]\n",
      " [ 0.51156758  1.77524265]\n",
      " [-0.1154135  -0.90906085]\n",
      " [ 0.04527714  0.04989222]\n",
      " [ 1.48709687  0.38016056]\n",
      " [-1.34349794 -0.56265391]\n",
      " [-0.28204894 -1.41584316]\n",
      " [-1.15219579 -1.34944064]\n",
      " [ 0.17205702 -0.17934725]\n",
      " [-0.78729988 -0.15435086]\n",
      " [-0.18374978 -0.83140832]\n",
      " [-0.36136503  0.00853694]\n",
      " [ 0.60734758  0.84584377]\n",
      " [ 0.43267152  2.53404718]\n",
      " [-0.39146768 -0.87525662]\n",
      " [ 0.39719906 -0.17375925]]\n"
     ]
    }
   ],
   "source": [
    "import numpy as np\n",
    "x3 = np.random.randn(50,2)\n",
    "print(x3)"
   ]
  },
  {
   "cell_type": "code",
   "execution_count": null,
   "id": "7d7b3d79",
   "metadata": {},
   "outputs": [],
   "source": []
  }
 ],
 "metadata": {
  "kernelspec": {
   "display_name": "Python 3 (ipykernel)",
   "language": "python",
   "name": "python3"
  },
  "language_info": {
   "codemirror_mode": {
    "name": "ipython",
    "version": 3
   },
   "file_extension": ".py",
   "mimetype": "text/x-python",
   "name": "python",
   "nbconvert_exporter": "python",
   "pygments_lexer": "ipython3",
   "version": "3.7.3"
  }
 },
 "nbformat": 4,
 "nbformat_minor": 5
}
