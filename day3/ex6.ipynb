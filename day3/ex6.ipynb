{
 "cells": [
  {
   "cell_type": "code",
   "execution_count": 1,
   "id": "a280774e",
   "metadata": {},
   "outputs": [
    {
     "name": "stdout",
     "output_type": "stream",
     "text": [
      "0        81\n",
      "1        46\n",
      "2        73\n",
      "3    python\n",
      "4        38\n",
      "5        91\n",
      "6       c++\n",
      "dtype: object\n"
     ]
    }
   ],
   "source": [
    "# !pip install pandas\n",
    "# python -m pip install pandas\n",
    "\n",
    "\"\"\" Creating a series with auto generated index\"\"\"\n",
    "\"\"\"Series - pandas function to create a series\"\"\"\n",
    "import pandas as pd\n",
    "\n",
    "s1 = pd.Series([81,46,73,'python',38,91,'c++'])\n",
    "\n",
    "# series can displayed using print function\n",
    "print(s1)"
   ]
  },
  {
   "cell_type": "code",
   "execution_count": 5,
   "id": "4e8ec88a",
   "metadata": {},
   "outputs": [
    {
     "name": "stdout",
     "output_type": "stream",
     "text": [
      "A        81\n",
      "B        46\n",
      "C        73\n",
      "D    python\n",
      "E        38\n",
      "F        91\n",
      "G       c++\n",
      "dtype: object\n"
     ]
    }
   ],
   "source": [
    "\"\"\" Creating a series with custom index\"\"\"\n",
    "import pandas as pd\n",
    "\n",
    "alphabets = 'ABCDEFG'\n",
    "\n",
    "# custom index is passed as a list using index parameter of Series function\n",
    "# Example below\n",
    "s1 = pd.Series([81,46,73,'python',38,91,'c++'],index=[x for x in alphabets])\n",
    "\n",
    "# series can displayed using print function\n",
    "print(s1)"
   ]
  },
  {
   "cell_type": "code",
   "execution_count": 6,
   "id": "128674fe",
   "metadata": {},
   "outputs": [
    {
     "name": "stdout",
     "output_type": "stream",
     "text": [
      "            0    1    2   3\n",
      "0     ABC LLC  150  200  50\n",
      "1     Beta Co  200  210  90\n",
      "2  Yellow Inc  140  215  95\n"
     ]
    }
   ],
   "source": [
    "\"\"\"create a dataframe\"\"\"\n",
    "\"\"\"DataFrame - pandas function to create a dataframe\"\"\"\n",
    "import pandas as pd\n",
    "\n",
    "#creating a dataframe using pandas DataFrame function\n",
    "# Both row index and column index are auto generated\n",
    "sales = [('ABC LLC', 150, 200, 50),\n",
    "         ('Beta Co', 200, 210, 90),\n",
    "         ('Yellow Inc', 140, 215, 95)]\n",
    "df = pd.DataFrame(sales)\n",
    "\n",
    "print(df)"
   ]
  },
  {
   "cell_type": "code",
   "execution_count": 7,
   "id": "fd64aae1",
   "metadata": {},
   "outputs": [
    {
     "name": "stdout",
     "output_type": "stream",
     "text": [
      "      account  apr  may  jun\n",
      "0     ABC LLC  150  200   50\n",
      "1     Beta Co  200  210   90\n",
      "2  Yellow Inc  140  215   95\n"
     ]
    }
   ],
   "source": [
    "\"\"\"create a dataframe using custom column headers\"\"\"\n",
    "\n",
    "import pandas as pd\n",
    "\n",
    "#creating a dataframe using pandas DataFrame function\n",
    "# Both row index and column index are auto generated\n",
    "sales = [('ABC LLC', 150, 200, 50),\n",
    "         ('Beta Co', 200, 210, 90),\n",
    "         ('Yellow Inc', 140, 215, 95)]\n",
    "\n",
    "headers = ['account','apr','may','jun'] # column headers as list\n",
    "# dataframe can be created custom column headers by passing a list to 'columns' parameter of DataFrame function\n",
    "df = pd.DataFrame(sales,columns=headers)\n",
    "\n",
    "print(df)"
   ]
  },
  {
   "cell_type": "code",
   "execution_count": 8,
   "id": "58d259ef",
   "metadata": {},
   "outputs": [
    {
     "name": "stdout",
     "output_type": "stream",
     "text": [
      "            apr  may  jun\n",
      "account                  \n",
      "ABC LLC     150  200   50\n",
      "Beta Co     200  210   90\n",
      "Yellow Inc  140  215   95\n"
     ]
    }
   ],
   "source": [
    "# set the index to a specific column\n",
    "\n",
    "df = df.set_index('account')\n",
    "\n",
    "print(df)"
   ]
  },
  {
   "cell_type": "code",
   "execution_count": null,
   "id": "d37ae86f",
   "metadata": {},
   "outputs": [],
   "source": [
    "import matplot.pyplot as plt\n",
    "\n",
    "df.plot(kind='bar')\n",
    "\n",
    "p"
   ]
  }
 ],
 "metadata": {
  "kernelspec": {
   "display_name": "Python 3 (ipykernel)",
   "language": "python",
   "name": "python3"
  },
  "language_info": {
   "codemirror_mode": {
    "name": "ipython",
    "version": 3
   },
   "file_extension": ".py",
   "mimetype": "text/x-python",
   "name": "python",
   "nbconvert_exporter": "python",
   "pygments_lexer": "ipython3",
   "version": "3.7.3"
  }
 },
 "nbformat": 4,
 "nbformat_minor": 5
}
