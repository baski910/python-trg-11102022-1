{
 "cells": [
  {
   "cell_type": "code",
   "execution_count": 1,
   "id": "074b1f94",
   "metadata": {},
   "outputs": [
    {
     "name": "stdout",
     "output_type": "stream",
     "text": [
      "The temperature at chennai is 31.99 celsiusThe temperature at delhi is 29.05 celsiusThe temperature at mumbai is 30.99 celsius\n",
      "\n",
      "\n",
      "The temperature at bangalore is 28.53 celsius\n",
      "[28.53000000000003, 29.05000000000001, 30.99000000000001, 31.99000000000001]\n"
     ]
    }
   ],
   "source": [
    "import multiprocessing \n",
    "import os \n",
    "import requests\n",
    "import json\n",
    "\n",
    "def square(city_name): \n",
    "    #print(\"Worker process id for {0}: {1}\".format(n, os.getpid())) \n",
    "    r = requests.get(\"https://api.openweathermap.org/data/2.5/weather?q={}&appid={}\".format(city_name,'0d82c47a56a20ee1ea11d9d6fa1b2ff2'))\n",
    "\n",
    "    if r.status_code==200:\n",
    "        d1 = json.loads(r.text)\n",
    "        #print(d1)\n",
    "        city_temp = d1.get('main').get('temp')-273.15\n",
    "        print(\"The temperature at %s is %.2f celsius\" %(city_name,city_temp))\n",
    "        return (city_temp) \n",
    "  \n",
    "if __name__ == \"__main__\": \n",
    "    # input list \n",
    "    #mylist = [1,2,3,4,5] \n",
    "    names = ['bangalore','delhi','mumbai','chennai']\n",
    "  \n",
    "    # creating a pool object \n",
    "    p = multiprocessing.Pool() \n",
    "  \n",
    "    # map list to target function \n",
    "    result = p.map(square, names) \n",
    "\n",
    "    p.close()\n",
    "  \n",
    "    print(result)"
   ]
  },
  {
   "cell_type": "code",
   "execution_count": null,
   "id": "dc741d0f",
   "metadata": {},
   "outputs": [],
   "source": []
  }
 ],
 "metadata": {
  "kernelspec": {
   "display_name": "Python 3 (ipykernel)",
   "language": "python",
   "name": "python3"
  },
  "language_info": {
   "codemirror_mode": {
    "name": "ipython",
    "version": 3
   },
   "file_extension": ".py",
   "mimetype": "text/x-python",
   "name": "python",
   "nbconvert_exporter": "python",
   "pygments_lexer": "ipython3",
   "version": "3.7.3"
  }
 },
 "nbformat": 4,
 "nbformat_minor": 5
}
