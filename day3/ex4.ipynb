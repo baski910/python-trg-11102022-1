{
 "cells": [
  {
   "cell_type": "code",
   "execution_count": 1,
   "id": "ac41fb97",
   "metadata": {},
   "outputs": [],
   "source": [
    "# json - java script object notation.\n",
    "#        used for exchanging information between applications\n",
    "\n",
    "# dump - stores dictionary as json string in a file object\n",
    "# load - return dictionary from a file object\n",
    "\n",
    "import json\n",
    "\n",
    "d1 = {'name':'bob','age': 7,'class':'first'}\n",
    "\n",
    "with(open('d1.json','w')) as outputfile:\n",
    "    json.dump(d1,outputfile)\n"
   ]
  },
  {
   "cell_type": "code",
   "execution_count": 3,
   "id": "e4dd42e6",
   "metadata": {},
   "outputs": [
    {
     "name": "stdout",
     "output_type": "stream",
     "text": [
      "{'name': 'bob', 'age': 7, 'class': 'first'}\n"
     ]
    }
   ],
   "source": [
    "d2={}\n",
    "with(open('d1.json','r')) as inputfile:\n",
    "    d2 = json.load(inputfile)\n",
    "\n",
    "print(d2)"
   ]
  },
  {
   "cell_type": "code",
   "execution_count": 5,
   "id": "0bb53b18",
   "metadata": {},
   "outputs": [
    {
     "name": "stdout",
     "output_type": "stream",
     "text": [
      "<class 'str'>\n",
      "{'name': 'bob', 'age': 7, 'class': 'first'}\n",
      "<class 'dict'>\n"
     ]
    }
   ],
   "source": [
    "# dumps - returns json string  from a  dictionary \n",
    "# loads - returns dictionary from a json string\n",
    "\n",
    "s1 = '{\"name\":\"bob\",\"age\": 7,\"class\":\"first\"}'\n",
    "\n",
    "print(type(s1))\n",
    "\n",
    "d3 =  json.loads(s1)\n",
    "\n",
    "print(d3)\n",
    "print(type(d3))"
   ]
  },
  {
   "cell_type": "code",
   "execution_count": 7,
   "id": "9eb2856d",
   "metadata": {},
   "outputs": [
    {
     "name": "stdout",
     "output_type": "stream",
     "text": [
      "<class 'dict'>\n",
      "{\"name\": \"bob\", \"age\": 7, \"class\": \"first\"}\n",
      "<class 'str'>\n"
     ]
    }
   ],
   "source": [
    "d4 = {\"name\":\"bob\",\"age\": 7,\"class\":\"first\"}\n",
    "\n",
    "print(type(d4))\n",
    "\n",
    "s2 =  json.dumps(d4)\n",
    "\n",
    "print(s2)\n",
    "print(type(s2))"
   ]
  },
  {
   "cell_type": "code",
   "execution_count": null,
   "id": "3cffc414",
   "metadata": {},
   "outputs": [],
   "source": []
  }
 ],
 "metadata": {
  "kernelspec": {
   "display_name": "Python 3 (ipykernel)",
   "language": "python",
   "name": "python3"
  },
  "language_info": {
   "codemirror_mode": {
    "name": "ipython",
    "version": 3
   },
   "file_extension": ".py",
   "mimetype": "text/x-python",
   "name": "python",
   "nbconvert_exporter": "python",
   "pygments_lexer": "ipython3",
   "version": "3.7.3"
  }
 },
 "nbformat": 4,
 "nbformat_minor": 5
}
