{
 "cells": [
  {
   "cell_type": "code",
   "execution_count": 5,
   "id": "b69ffc1b",
   "metadata": {},
   "outputs": [
    {
     "name": "stdout",
     "output_type": "stream",
     "text": [
      "[0, 1, 2, 3, 4, 5, 6, 7, 8, 9, 10, 11, 12, 13, 14, 15, 16, 17, 18, 19]\n",
      "[0, 1, 4, 9, 16, 25, 36, 49, 64, 81, 100, 121, 144, 169, 196, 225, 256, 289, 324, 361]\n"
     ]
    }
   ],
   "source": [
    "# list comprehension - is a technique to create a list in a mathematical way\n",
    "\n",
    "#list1=[]\n",
    "\n",
    "#for num in range(10):\n",
    "#    list1.append(num)\n",
    "#    #print(num,end=\"\\t\")\n",
    "#print(list1)\n",
    "\n",
    "list1 = [x for x in range(20)]\n",
    "\n",
    "print(list1)\n",
    "\n",
    "square_numbers = [x*x for x in range(20)]\n",
    "\n",
    "print(square_numbers)"
   ]
  },
  {
   "cell_type": "code",
   "execution_count": 8,
   "id": "4e9e4794",
   "metadata": {},
   "outputs": [
    {
     "name": "stdout",
     "output_type": "stream",
     "text": [
      "gwddtitudl\n",
      "helloworld\n"
     ]
    }
   ],
   "source": [
    "'''\n",
    "Take input from user and convert it to cipher by using substitution cipher.\n",
    "Every alphabet is replaced with corresponding alphabet in key.\n",
    "alphabet = 'abcdefghijklmnopqrstuvwxyz'\n",
    "key = 'xznlwebgjhqdyvtkfuompciasr' \n",
    "if the input has letter 'a' it will be replaced with 'x' and for 'b' it\n",
    "will be replaced with 'z' and it goes on\n",
    "'''\n",
    "\n",
    "alphabet = 'abcdefghijklmnopqrstuvwxyz'\n",
    "key = 'xznlwebgjhqdyvtkfuompciasr' \n",
    "\n",
    "userinput = \"helloworld\"\n",
    "\n",
    "#message = ''\n",
    "\n",
    "#for char in input:\n",
    "#    cipher += key[alphabet.index(char)]\n",
    "cipher = [key[alphabet.index(char)] for char in userinput]   \n",
    "print(''.join(cipher))\n",
    "\n",
    "message = [alphabet[key.index(char)] for char in cipher] \n",
    "print(''.join(message))\n",
    "#for char in cipher:\n",
    "#   message += alphabet[key.index(char)]\n",
    "    \n",
    "#print(message)"
   ]
  },
  {
   "cell_type": "code",
   "execution_count": 10,
   "id": "f82f08a4",
   "metadata": {},
   "outputs": [
    {
     "name": "stdout",
     "output_type": "stream",
     "text": [
      "a comes at index 5\n",
      "b comes at index 6\n",
      "c comes at index 7\n",
      "d comes at index 8\n",
      "e comes at index 9\n",
      "f comes at index 10\n"
     ]
    }
   ],
   "source": [
    "# list enumeration\n",
    "# enumerate - Built-in function returns 2 values i.e., both index and value in each iteration.\n",
    "#             optionally takes 2nd parameter as start index        \n",
    "\n",
    "list1 =['a','b','c','d','e','f']\n",
    "\n",
    "#for num,element in enumerate(list1):\n",
    "for num,element in enumerate(list1,5):\n",
    "    print(f\"{element} comes at index {num}\")\n",
    "\n"
   ]
  },
  {
   "cell_type": "code",
   "execution_count": 13,
   "id": "495c0d6d",
   "metadata": {},
   "outputs": [
    {
     "name": "stdout",
     "output_type": "stream",
     "text": [
      "   a result of a setting in your ~/.vimrc before reporting it.\n",
      "\n",
      " -- Stefano Zacchiroli <zack@debian.org>   Mon, 10 Apr 2006 09:59:41 -0400\n",
      "\n",
      "MzScheme Vim variant\n",
      "--------------------\n",
      "\n",
      "As requested by the current MzScheme maintainer (Ari Pollak <ari@debian.org>),\n",
      "a vim-mzscheme variant is not being built.  The reasons stated are as follows:\n",
      "\n",
      "  1) MzScheme does not build on many of Debian's supported architectures.\n"
     ]
    }
   ],
   "source": [
    "# fileobject.readlines() - returns the file as a list\n",
    "\n",
    "fh = open('readme.txt','r')\n",
    "\n",
    "#print(fh.readlines())\n",
    "\n",
    "for num,content in enumerate(fh.readlines(),1):\n",
    "    if num>=10 and num<=20:\n",
    "        print(content,end='')\n",
    "\n",
    "fh.close()"
   ]
  },
  {
   "cell_type": "code",
   "execution_count": null,
   "id": "94eeb90a",
   "metadata": {},
   "outputs": [],
   "source": []
  }
 ],
 "metadata": {
  "kernelspec": {
   "display_name": "Python 3 (ipykernel)",
   "language": "python",
   "name": "python3"
  },
  "language_info": {
   "codemirror_mode": {
    "name": "ipython",
    "version": 3
   },
   "file_extension": ".py",
   "mimetype": "text/x-python",
   "name": "python",
   "nbconvert_exporter": "python",
   "pygments_lexer": "ipython3",
   "version": "3.7.3"
  }
 },
 "nbformat": 4,
 "nbformat_minor": 5
}
