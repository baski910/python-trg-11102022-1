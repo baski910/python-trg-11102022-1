{
 "cells": [
  {
   "cell_type": "code",
   "execution_count": 4,
   "id": "c5a07a95",
   "metadata": {},
   "outputs": [
    {
     "name": "stdout",
     "output_type": "stream",
     "text": [
      "Not Found\n",
      "7\n"
     ]
    }
   ],
   "source": [
    "\"\"\"example get function\"\"\"\n",
    "\n",
    "d1 = {'name':'alice','age':7,'class':'first'} \n",
    "\n",
    "#print(d1['lname']) # throws error as the key 'lname' is not existing\n",
    "\n",
    "# by using get function we could avoid error\n",
    "\n",
    "#print(d1.get('lname')) # output will be None as the key is not existing\n",
    "\n",
    "print(d1.get('lname','Not Found')) # output will be None as the key is not existing\n",
    "\n",
    "print(d1.get('age','Not Found')) # output will be 7"
   ]
  },
  {
   "cell_type": "code",
   "execution_count": 10,
   "id": "e9f334f9",
   "metadata": {},
   "outputs": [
    {
     "name": "stdout",
     "output_type": "stream",
     "text": [
      "Enter the city namebangalore\n",
      "{'coord': {'lon': 77.6033, 'lat': 12.9762}, 'weather': [{'id': 802, 'main': 'Clouds', 'description': 'scattered clouds', 'icon': '03d'}], 'base': 'stations', 'main': {'temp': 300.7, 'feels_like': 303.42, 'temp_min': 298.64, 'temp_max': 301.77, 'pressure': 1012, 'humidity': 74}, 'visibility': 6000, 'wind': {'speed': 5.14, 'deg': 100}, 'clouds': {'all': 40}, 'dt': 1665482275, 'sys': {'type': 2, 'id': 2017753, 'country': 'IN', 'sunrise': 1665448754, 'sunset': 1665491597}, 'timezone': 19800, 'id': 1277333, 'name': 'Bengaluru', 'cod': 200}\n",
      "Temperature at bangalore is 27.55\n"
     ]
    }
   ],
   "source": [
    "# openweathermap.org - provides some rest end point (needs an api key)\n",
    "# !pip install requests\n",
    "import requests\n",
    "import json\n",
    "\n",
    "fh = open('api_key','r')\n",
    "\n",
    "API_KEY=fh.readline().strip()\n",
    "\n",
    "fh.close()\n",
    "\n",
    "city_name = input(\"Enter the city name\")\n",
    "\n",
    "r = requests.get(f\"https://api.openweathermap.org/data/2.5/weather?q={city_name}&appid={API_KEY}\")\n",
    "\n",
    "if r.status_code == 200:\n",
    "    d1 = json.loads(r.text)\n",
    "    print(d1)\n",
    "    temperature = d1.get('main').get('temp')-273.15\n",
    "    print(\"Temperature at %s is %.2f\" %(city_name,temperature))\n",
    "else:\n",
    "    print(\"error in accessing rest end point\")"
   ]
  },
  {
   "cell_type": "code",
   "execution_count": 12,
   "id": "90aebecb",
   "metadata": {},
   "outputs": [
    {
     "name": "stdout",
     "output_type": "stream",
     "text": [
      "{'name': 'alice', 'age': 7, 'class': 'first', 'lname': 'tom'}\n",
      "{'name': 'alice', 'age': 7, 'class': 'first', 'lname': 'tom'}\n"
     ]
    }
   ],
   "source": [
    "# setdefault -creating an item inside dictionary\n",
    "d1 = {'name':'alice','age':7,'class':'first'} \n",
    "\n",
    "d1.setdefault('lname','tom') # creates a new key and value pair\n",
    "\n",
    "print(d1)\n",
    "\n",
    "d1.setdefault('name','pat') \n",
    "\n",
    "print(d1)"
   ]
  },
  {
   "cell_type": "code",
   "execution_count": 15,
   "id": "fa6dce87",
   "metadata": {},
   "outputs": [
    {
     "name": "stdout",
     "output_type": "stream",
     "text": [
      "{'name': 'alice', 'age': 7, 'class': 'first'}\n",
      "[('name', 'tom'), ('age', 10), ('class', 'second')]\n",
      "{'name': 'tom', 'age': 10, 'class': 'second'}\n"
     ]
    }
   ],
   "source": [
    "list1 = [('name','alice'),('age',7),('class','first')]\n",
    "\n",
    "d2 = dict(list1) # returns a dictionary\n",
    "\n",
    "print(d2)\n",
    "\n",
    "list2 = ['name','age','class']\n",
    "\n",
    "list3 = ['tom',10,'second']\n",
    "\n",
    "list4 = list(zip(list2,list3))\n",
    "\n",
    "print(list4)\n",
    "\n",
    "d3 = dict(zip(list2,list3))\n",
    "\n",
    "print(d3)"
   ]
  },
  {
   "cell_type": "code",
   "execution_count": 16,
   "id": "9f0f35e9",
   "metadata": {},
   "outputs": [
    {
     "name": "stdout",
     "output_type": "stream",
     "text": [
      "name:tom\n",
      "age:10\n",
      "class:second\n"
     ]
    }
   ],
   "source": [
    "for key,val in d3.items():\n",
    "    print(f\"{key}:{val}\")"
   ]
  },
  {
   "cell_type": "code",
   "execution_count": 18,
   "id": "27ea43c3",
   "metadata": {},
   "outputs": [
    {
     "name": "stdout",
     "output_type": "stream",
     "text": [
      "[('name', 'tom'), ('age', 10), ('class', 'second')]\n"
     ]
    }
   ],
   "source": [
    "list5 = [x for x in d3.items()]\n",
    "\n",
    "print(list5)"
   ]
  },
  {
   "cell_type": "code",
   "execution_count": 19,
   "id": "27b58d1d",
   "metadata": {},
   "outputs": [
    {
     "name": "stdout",
     "output_type": "stream",
     "text": [
      "['name', 'age', 'class']\n",
      "['tom', 10, 'second']\n"
     ]
    }
   ],
   "source": [
    "list6 = list(d3.keys())\n",
    "\n",
    "print(list6)\n",
    "\n",
    "list7 = list(d3.values())\n",
    "\n",
    "print(list7)"
   ]
  },
  {
   "cell_type": "code",
   "execution_count": null,
   "id": "af659d62",
   "metadata": {},
   "outputs": [],
   "source": []
  }
 ],
 "metadata": {
  "kernelspec": {
   "display_name": "Python 3 (ipykernel)",
   "language": "python",
   "name": "python3"
  },
  "language_info": {
   "codemirror_mode": {
    "name": "ipython",
    "version": 3
   },
   "file_extension": ".py",
   "mimetype": "text/x-python",
   "name": "python",
   "nbconvert_exporter": "python",
   "pygments_lexer": "ipython3",
   "version": "3.7.3"
  }
 },
 "nbformat": 4,
 "nbformat_minor": 5
}
