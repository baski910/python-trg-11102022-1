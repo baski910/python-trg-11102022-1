{
 "cells": [
  {
   "cell_type": "code",
   "execution_count": 4,
   "id": "a361a2da",
   "metadata": {},
   "outputs": [
    {
     "name": "stdout",
     "output_type": "stream",
     "text": [
      "Not Found\n",
      "7\n"
     ]
    }
   ],
   "source": [
    "\"\"\"example get function\"\"\"\n",
    "\n",
    "d1 = {'name':'alice','age':7,'class':'first'} \n",
    "\n",
    "#print(d1['lname']) # throws error as the key 'lname' is not existing\n",
    "\n",
    "# by using get function we could avoid error\n",
    "\n",
    "#print(d1.get('lname')) # output will be None as the key is not existing\n",
    "\n",
    "print(d1.get('lname','Not Found')) # output will be None as the key is not existing\n",
    "\n",
    "print(d1.get('age','Not Found')) # output will be 7"
   ]
  },
  {
   "cell_type": "code",
   "execution_count": 10,
   "id": "69cf8b22",
   "metadata": {},
   "outputs": [
    {
     "name": "stdout",
     "output_type": "stream",
     "text": [
      "Enter the city namebangalore\n",
      "{'coord': {'lon': 77.6033, 'lat': 12.9762}, 'weather': [{'id': 802, 'main': 'Clouds', 'description': 'scattered clouds', 'icon': '03d'}], 'base': 'stations', 'main': {'temp': 300.7, 'feels_like': 303.42, 'temp_min': 298.64, 'temp_max': 301.77, 'pressure': 1012, 'humidity': 74}, 'visibility': 6000, 'wind': {'speed': 5.14, 'deg': 100}, 'clouds': {'all': 40}, 'dt': 1665482275, 'sys': {'type': 2, 'id': 2017753, 'country': 'IN', 'sunrise': 1665448754, 'sunset': 1665491597}, 'timezone': 19800, 'id': 1277333, 'name': 'Bengaluru', 'cod': 200}\n",
      "Temperature at bangalore is 27.55\n"
     ]
    }
   ],
   "source": [
    "# openweathermap.org - provides some rest end point (needs an api key)\n",
    "# !pip install requests\n",
    "import requests\n",
    "import json\n",
    "\n",
    "fh = open('api_key','r')\n",
    "\n",
    "API_KEY=fh.readline().strip()\n",
    "\n",
    "fh.close()\n",
    "\n",
    "city_name = input(\"Enter the city name\")\n",
    "\n",
    "r = requests.get(f\"https://api.openweathermap.org/data/2.5/weather?q={city_name}&appid={API_KEY}\")\n",
    "\n",
    "if r.status_code == 200:\n",
    "    d1 = json.loads(r.text)\n",
    "    print(d1)\n",
    "    temperature = d1.get('main').get('temp')-273.15\n",
    "    print(\"Temperature at %s is %.2f\" %(city_name,temperature))\n",
    "else:\n",
    "    print(\"error in accessing rest end point\")"
   ]
  },
  {
   "cell_type": "code",
   "execution_count": null,
   "id": "69c36a5b",
   "metadata": {},
   "outputs": [],
   "source": []
  }
 ],
 "metadata": {
  "kernelspec": {
   "display_name": "Python 3 (ipykernel)",
   "language": "python",
   "name": "python3"
  },
  "language_info": {
   "codemirror_mode": {
    "name": "ipython",
    "version": 3
   },
   "file_extension": ".py",
   "mimetype": "text/x-python",
   "name": "python",
   "nbconvert_exporter": "python",
   "pygments_lexer": "ipython3",
   "version": "3.7.3"
  }
 },
 "nbformat": 4,
 "nbformat_minor": 5
}
