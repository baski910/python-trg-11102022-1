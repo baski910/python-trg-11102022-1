{
 "cells": [
  {
   "cell_type": "code",
   "execution_count": 2,
   "id": "432f4f03",
   "metadata": {},
   "outputs": [
    {
     "name": "stdout",
     "output_type": "stream",
     "text": [
      "[48, 'hello', 13.25, 91, 37, 'world', True, 'flowers', 51, 78]\n",
      "[48, 'hello', 13.25, 91, 37, 'world', True, 'flowers', 51, 78]\n",
      "139914271511048\n",
      "139914271511048\n",
      "[48, 'hello', 13.25, 100, 37, 'world', True, 'flowers', 51, 78]\n",
      "[48, 'hello', 13.25, 100, 37, 'world', True, 'flowers', 51, 78]\n"
     ]
    }
   ],
   "source": [
    "# data type of list elements can be different\n",
    "list1 = [48,\"hello\",13.25,91,37,\"world\",True,\"flowers\",51,78]\n",
    "\n",
    "# list assignment \n",
    "\n",
    "list2 = list1 # assigns only reference\n",
    "\n",
    "print(list1)\n",
    "print(list2)\n",
    "print(id(list1))\n",
    "print(id(list2))\n",
    "\n",
    "list2[3] = 100\n",
    "\n",
    "print(list1)\n",
    "print(list2)"
   ]
  },
  {
   "cell_type": "code",
   "execution_count": 6,
   "id": "1426f49b",
   "metadata": {},
   "outputs": [
    {
     "name": "stdout",
     "output_type": "stream",
     "text": [
      "elements of list1: ['a', 'b', 'c', 'd', 'e', 'f']\n",
      "elements of list2: ['a', 'b', 'c', 'd', 'e', 'f']\n",
      "referece of elements of list1: 139914406631944\n",
      "reference of elements of list2: 139914406631944\n",
      "reference of list1: 139914271793480\n",
      "reference of list2: 139914271793672\n",
      "elements of list1: ['a', 'b', 'c', 'd', 'e', 'f']\n",
      "elements of list2: ['a', 'b', 'c', 'm', 'e', 'f']\n"
     ]
    }
   ],
   "source": [
    "\"\"\"shallow copy with immutable objets\"\"\"\n",
    "\"\"\"In shallow copy, the lists get different references however, \n",
    "the inner elements have the same reference\"\"\"\n",
    "\n",
    "list1 =['a','b','c','d','e','f']\n",
    "\n",
    "# list2 = list(['a','b','c','d','e','f'])\n",
    "\n",
    "list2 = list1[:] # with this assignment reference of list2 and list1 will be different\n",
    "\n",
    "print(\"elements of list1:\",list1)\n",
    "print(\"elements of list2:\",list2)\n",
    "print(\"referece of elements of list1:\",id(list1[3]))\n",
    "print(\"reference of elements of list2:\",id(list2[3]))\n",
    "print(\"reference of list1:\",id(list1))\n",
    "print(\"reference of list2:\",id(list2))\n",
    "\n",
    "list2[3] = 'm'\n",
    "\n",
    "print(\"elements of list1:\",list1)\n",
    "print(\"elements of list2:\",list2)"
   ]
  },
  {
   "cell_type": "code",
   "execution_count": 9,
   "id": "c4686186",
   "metadata": {},
   "outputs": [
    {
     "name": "stdout",
     "output_type": "stream",
     "text": [
      "elements of list1: ['a', 'b', ['c', 'd'], 'e', 'f']\n",
      "elements of list2: ['a', 'b', ['c', 'd'], 'e', 'f']\n",
      "referece of elements of list1: 139914271519048\n",
      "reference of elements of list2: 139914271519048\n",
      "reference of list1: 139914271510984\n",
      "reference of list2: 139914271506696\n",
      "d\n",
      "elements of list1: ['a', 'b', ['c', 'm'], 'e', 'f']\n",
      "elements of list2: ['a', 'b', ['c', 'm'], 'e', 'f']\n"
     ]
    }
   ],
   "source": [
    "\"\"\"shallow copy with immutable objets\"\"\"\n",
    "\"\"\"\n",
    "In case of shallow copy, the modification made to one list may affect other \n",
    "list depending on the elements being immutable or mutable object. \n",
    "If the element is an immutable object, the changes will not be reflected,\n",
    "otherwise it will be reflected\n",
    "\"\"\"\n",
    "list1 =['a','b',['c','d'],'e','f']\n",
    "\n",
    "list2 = list1[:] # with this assignment reference of list2 and list1 will be different\n",
    "\n",
    "print(\"elements of list1:\",list1)\n",
    "print(\"elements of list2:\",list2)\n",
    "print(\"referece of elements of list1:\",id(list1[2]))\n",
    "print(\"reference of elements of list2:\",id(list2[2]))\n",
    "print(\"reference of list1:\",id(list1))\n",
    "print(\"reference of list2:\",id(list2))\n",
    "\n",
    "print(list2[2][1])\n",
    "list2[2][1] = 'm'\n",
    "\n",
    "print(\"elements of list1:\",list1)\n",
    "print(\"elements of list2:\",list2)"
   ]
  },
  {
   "cell_type": "code",
   "execution_count": 10,
   "id": "eae5692b",
   "metadata": {},
   "outputs": [
    {
     "name": "stdout",
     "output_type": "stream",
     "text": [
      "elements of list1: ['a', 'b', ['c', 'd'], 'e', 'f']\n",
      "elements of list2: ['a', 'b', ['c', 'd'], 'e', 'f']\n",
      "referece of elements of list1: 139914271522568\n",
      "reference of elements of list2: 139914271523144\n",
      "reference of list1: 139914271522312\n",
      "reference of list2: 139914271522184\n",
      "d\n",
      "elements of list1: ['a', 'b', ['c', 'd'], 'e', 'f']\n",
      "elements of list2: ['a', 'b', ['c', 'm'], 'e', 'f']\n"
     ]
    }
   ],
   "source": [
    "\"\"\"example deep copy\"\"\"\n",
    "\n",
    "from copy import deepcopy\n",
    "\n",
    "list1 =['a','b',['c','d'],'e','f']\n",
    "\n",
    "# with the below assignment reference of list2 and list1 will be different also references\n",
    "# inner element will be different\n",
    "list2 = deepcopy(list1) \n",
    "\n",
    "print(\"elements of list1:\",list1)\n",
    "print(\"elements of list2:\",list2)\n",
    "print(\"referece of elements of list1:\",id(list1[2]))\n",
    "print(\"reference of elements of list2:\",id(list2[2]))\n",
    "print(\"reference of list1:\",id(list1))\n",
    "print(\"reference of list2:\",id(list2))\n",
    "\n",
    "print(list2[2][1])\n",
    "list2[2][1] = 'm'\n",
    "\n",
    "print(\"elements of list1:\",list1)\n",
    "print(\"elements of list2:\",list2)"
   ]
  },
  {
   "cell_type": "code",
   "execution_count": null,
   "id": "6b1ea1f9",
   "metadata": {},
   "outputs": [],
   "source": [
    "# append,extend,insert\n",
    "# pop, remove\n",
    "# sort \n",
    "\n",
    "\n"
   ]
  }
 ],
 "metadata": {
  "kernelspec": {
   "display_name": "Python 3 (ipykernel)",
   "language": "python",
   "name": "python3"
  },
  "language_info": {
   "codemirror_mode": {
    "name": "ipython",
    "version": 3
   },
   "file_extension": ".py",
   "mimetype": "text/x-python",
   "name": "python",
   "nbconvert_exporter": "python",
   "pygments_lexer": "ipython3",
   "version": "3.7.3"
  }
 },
 "nbformat": 4,
 "nbformat_minor": 5
}
