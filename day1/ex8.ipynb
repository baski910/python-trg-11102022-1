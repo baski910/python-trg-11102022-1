{
 "cells": [
  {
   "cell_type": "code",
   "execution_count": 2,
   "id": "3ffd9414",
   "metadata": {},
   "outputs": [
    {
     "name": "stdout",
     "output_type": "stream",
     "text": [
      "before update: {'name': 'alice', 'age': 7, 'class': 'first'}\n",
      "after update: {'name': 'alice', 'age': 7, 'class': 'first', 'school': 'cps school', 'rank': 'second'}\n"
     ]
    }
   ],
   "source": [
    "\"\"\"merge dictionary\"\"\"\n",
    "\n",
    "d1 = {'name':'alice','age':7,'class':'first'} \n",
    "\n",
    "d2 = {'school': 'cps school','rank':'second'}\n",
    "\n",
    "print(\"before update:\",d1)\n",
    "\n",
    "d1.update(d2)\n",
    "\n",
    "print(\"after update:\",d1)"
   ]
  },
  {
   "cell_type": "code",
   "execution_count": 3,
   "id": "9f3f7dbf",
   "metadata": {},
   "outputs": [
    {
     "name": "stdout",
     "output_type": "stream",
     "text": [
      "cps school\n"
     ]
    }
   ],
   "source": [
    "value = d1.pop('school')\n",
    "\n",
    "print(value)"
   ]
  },
  {
   "cell_type": "code",
   "execution_count": 4,
   "id": "e43dcd90",
   "metadata": {},
   "outputs": [
    {
     "name": "stdout",
     "output_type": "stream",
     "text": [
      "{}\n"
     ]
    }
   ],
   "source": [
    "d1.clear() # makes the dictionary empty\n",
    "\n",
    "print(d1)"
   ]
  },
  {
   "cell_type": "code",
   "execution_count": null,
   "id": "fc036a98",
   "metadata": {},
   "outputs": [],
   "source": []
  }
 ],
 "metadata": {
  "kernelspec": {
   "display_name": "Python 3 (ipykernel)",
   "language": "python",
   "name": "python3"
  },
  "language_info": {
   "codemirror_mode": {
    "name": "ipython",
    "version": 3
   },
   "file_extension": ".py",
   "mimetype": "text/x-python",
   "name": "python",
   "nbconvert_exporter": "python",
   "pygments_lexer": "ipython3",
   "version": "3.7.3"
  }
 },
 "nbformat": 4,
 "nbformat_minor": 5
}
