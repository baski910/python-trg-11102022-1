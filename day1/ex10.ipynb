{
 "cells": [
  {
   "cell_type": "code",
   "execution_count": 3,
   "id": "9f208930",
   "metadata": {},
   "outputs": [
    {
     "ename": "IndentationError",
     "evalue": "unexpected indent (2726269815.py, line 6)",
     "output_type": "error",
     "traceback": [
      "\u001b[0;36m  File \u001b[0;32m\"/tmp/ipykernel_16106/2726269815.py\"\u001b[0;36m, line \u001b[0;32m6\u001b[0m\n\u001b[0;31m    print(\"this line is indented\") # this will lead to error because of unnecessary indentation\u001b[0m\n\u001b[0m    ^\u001b[0m\n\u001b[0;31mIndentationError\u001b[0m\u001b[0;31m:\u001b[0m unexpected indent\n"
     ]
    }
   ],
   "source": [
    "# if..elif..elif..else\n",
    "# white space is significant\n",
    "\n",
    "print(\"this is the first line\")\n",
    "\n",
    "     print(\"this line is indented\") # this will lead to error because of unnecessary indentation\n",
    "\n",
    "print(\"script continues here....\")"
   ]
  },
  {
   "cell_type": "code",
   "execution_count": 8,
   "id": "2f0c4c5b",
   "metadata": {},
   "outputs": [
    {
     "name": "stdout",
     "output_type": "stream",
     "text": [
      "Enter a number5\n",
      "min\n"
     ]
    }
   ],
   "source": [
    "num = int(input(\"Enter a number\"))\n",
    "\n",
    "if num<0:\n",
    "    print(\"negative\")\n",
    "elif num==0:\n",
    "    print(\"zero\")\n",
    "elif num>0 and num<10:\n",
    "    print(\"min\")\n",
    "else:\n",
    "    print(\"positive\")\n"
   ]
  },
  {
   "cell_type": "code",
   "execution_count": 10,
   "id": "978ea82c",
   "metadata": {},
   "outputs": [
    {
     "name": "stdout",
     "output_type": "stream",
     "text": [
      "0\n",
      "1\n",
      "2\n",
      "3\n",
      "4\n"
     ]
    }
   ],
   "source": [
    "# for..else\n",
    "# else part will be executed after all iteration gets completed\n",
    "\n",
    "for num in range(10):\n",
    "    if num==5:\n",
    "        break\n",
    "    print(num)\n",
    "else:\n",
    "    print(\"executed after all iterations\")"
   ]
  },
  {
   "cell_type": "code",
   "execution_count": 13,
   "id": "7d79d6ed",
   "metadata": {},
   "outputs": [
    {
     "name": "stdout",
     "output_type": "stream",
     "text": [
      "1\n",
      "2\n",
      "3\n",
      "4\n",
      "6\n",
      "7\n",
      "8\n",
      "9\n",
      "10\n",
      "executed after all iterations\n"
     ]
    }
   ],
   "source": [
    "# while..else\n",
    "\n",
    "count = 0\n",
    "\n",
    "while count < 10:\n",
    "    count += 1\n",
    "    if count==5:\n",
    "        #break\n",
    "        continue\n",
    "    print(count)\n",
    "else:\n",
    "    print(\"executed after all iterations\")"
   ]
  },
  {
   "cell_type": "code",
   "execution_count": 15,
   "id": "b79665df",
   "metadata": {},
   "outputs": [
    {
     "name": "stdout",
     "output_type": "stream",
     "text": [
      "3.75\n",
      "3\n"
     ]
    }
   ],
   "source": [
    "# // - floor operator - returns nearest lower integer\n",
    "\n",
    "print(15/4) # 3.75\n",
    "print(15//4) # 3"
   ]
  },
  {
   "cell_type": "code",
   "execution_count": 16,
   "id": "7dcb59da",
   "metadata": {},
   "outputs": [
    {
     "name": "stdout",
     "output_type": "stream",
     "text": [
      "found\n"
     ]
    }
   ],
   "source": [
    "# in - membership operator - returns True if a value is present in given sequence\n",
    "\n",
    "list1 = [10,20,30,40,50]\n",
    "\n",
    "if 10 in list1:\n",
    "    print(\"found\")\n",
    "else:\n",
    "    print(\"not found\")"
   ]
  },
  {
   "cell_type": "code",
   "execution_count": 18,
   "id": "4aaabeb4",
   "metadata": {},
   "outputs": [
    {
     "name": "stdout",
     "output_type": "stream",
     "text": [
      "a is not integer\n"
     ]
    }
   ],
   "source": [
    "# is - identity operator - returns True if operand on both sides have same data type\n",
    "\n",
    "a = \"10\"\n",
    "\n",
    "if type(a) is int:\n",
    "    print(\"a is integer\")\n",
    "else:\n",
    "    print(\"a is not integer\")"
   ]
  },
  {
   "cell_type": "code",
   "execution_count": 19,
   "id": "7522017d",
   "metadata": {},
   "outputs": [
    {
     "name": "stdout",
     "output_type": "stream",
     "text": [
      "[58, 901, 740, 'world', 231, 60, 82, 'hello', 104, 30]\n",
      "[58, 901, 740, 231, 60, 82, 104, 30]\n"
     ]
    }
   ],
   "source": [
    "list1 = [58,901,740,'world',231,60,82,'hello',104,30]\n",
    "\n",
    "print(list1)\n",
    "\n",
    "list1 = [x for x in list1 if type(x) is int]\n",
    "\n",
    "print(list1)"
   ]
  },
  {
   "cell_type": "code",
   "execution_count": null,
   "id": "1e4a6009",
   "metadata": {},
   "outputs": [],
   "source": []
  }
 ],
 "metadata": {
  "kernelspec": {
   "display_name": "Python 3 (ipykernel)",
   "language": "python",
   "name": "python3"
  },
  "language_info": {
   "codemirror_mode": {
    "name": "ipython",
    "version": 3
   },
   "file_extension": ".py",
   "mimetype": "text/x-python",
   "name": "python",
   "nbconvert_exporter": "python",
   "pygments_lexer": "ipython3",
   "version": "3.7.3"
  }
 },
 "nbformat": 4,
 "nbformat_minor": 5
}
