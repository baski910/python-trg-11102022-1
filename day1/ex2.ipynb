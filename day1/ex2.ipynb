{
 "cells": [
  {
   "cell_type": "code",
   "execution_count": 1,
   "id": "aca00b9a",
   "metadata": {},
   "outputs": [],
   "source": [
    "# immutable - reference changes on modification\n",
    "# mutable - reference does not change on modification"
   ]
  },
  {
   "cell_type": "code",
   "execution_count": 2,
   "id": "6c5aab2e",
   "metadata": {},
   "outputs": [
    {
     "name": "stdout",
     "output_type": "stream",
     "text": [
      "2\n",
      "reference before addition: 9079040\n",
      "5\n",
      "reference after addition: 9079136\n"
     ]
    }
   ],
   "source": [
    "# example for immutable\n",
    "\n",
    "a = 2\n",
    "\n",
    "print(a)\n",
    "print(\"reference before addition:\",id(a))\n",
    "\n",
    "a += 3\n",
    "\n",
    "print(a)\n",
    "print(\"reference after addition:\",id(a))"
   ]
  },
  {
   "cell_type": "code",
   "execution_count": 4,
   "id": "87238d12",
   "metadata": {},
   "outputs": [
    {
     "name": "stdout",
     "output_type": "stream",
     "text": [
      "[10, 'hello', 'g', 30, 40]\n",
      "reference before addition: 140676628371144\n",
      "[10, 'hello', 'm', 30, 40]\n",
      "reference after addition: 140676628371144\n"
     ]
    }
   ],
   "source": [
    "# example for mutable\n",
    "\n",
    "list1 = [10,'hello','g',30,40]\n",
    "\n",
    "print(list1)\n",
    "print(\"reference before addition:\",id(list1))\n",
    "\n",
    "list1[2] = 'm'\n",
    "\n",
    "print(list1)\n",
    "print(\"reference after addition:\",id(list1))"
   ]
  },
  {
   "cell_type": "code",
   "execution_count": null,
   "id": "b8122c77",
   "metadata": {},
   "outputs": [],
   "source": []
  }
 ],
 "metadata": {
  "kernelspec": {
   "display_name": "Python 3 (ipykernel)",
   "language": "python",
   "name": "python3"
  },
  "language_info": {
   "codemirror_mode": {
    "name": "ipython",
    "version": 3
   },
   "file_extension": ".py",
   "mimetype": "text/x-python",
   "name": "python",
   "nbconvert_exporter": "python",
   "pygments_lexer": "ipython3",
   "version": "3.7.3"
  }
 },
 "nbformat": 4,
 "nbformat_minor": 5
}
