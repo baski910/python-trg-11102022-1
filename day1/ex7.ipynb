{
 "cells": [
  {
   "cell_type": "code",
   "execution_count": 4,
   "id": "a3a1247e",
   "metadata": {},
   "outputs": [
    {
     "name": "stdout",
     "output_type": "stream",
     "text": [
      "{'name': 'alice', 'age': 7, 'class': 'first'}\n",
      "7\n",
      "{'name': 'alice', 'age': 10, 'class': 'first'}\n",
      "{'name': 'bob', 'age': 7, 'class': 'first'}\n"
     ]
    }
   ],
   "source": [
    "\"\"\"Dictionary examples\"\"\"\n",
    "\n",
    "d1 = {'name':'alice','age':7,'class':'first'}\n",
    "\n",
    "# print all items in a dictionary\n",
    "print(d1)\n",
    "\n",
    "# access a value against a specific key.\n",
    "print(d1['age']) # the output will be 7\n",
    "\n",
    "d1['age']=10 # updates the value against the key, if key is present otherwise the key is created\n",
    "print(d1)\n",
    "\n",
    "# repeating a key is not an error, the last pair of key and value will overwrite the previous one\n",
    "d1 = {'name':'alice','age':7,'class':'first','name':'bob'} # the value for the key 'name' will be bob\n",
    "print(d1)"
   ]
  },
  {
   "cell_type": "code",
   "execution_count": 5,
   "id": "b3e66c9a",
   "metadata": {},
   "outputs": [
    {
     "name": "stdout",
     "output_type": "stream",
     "text": [
      "{'name': 'bob', 'age': 7, 'class': 'first', 'lname': 'joe'}\n"
     ]
    }
   ],
   "source": [
    "d1['lname'] = 'joe' # creates a new key 'lname' with value 'joe'\n",
    "print(d1)"
   ]
  },
  {
   "cell_type": "code",
   "execution_count": null,
   "id": "6270ab20",
   "metadata": {},
   "outputs": [],
   "source": []
  }
 ],
 "metadata": {
  "kernelspec": {
   "display_name": "Python 3 (ipykernel)",
   "language": "python",
   "name": "python3"
  },
  "language_info": {
   "codemirror_mode": {
    "name": "ipython",
    "version": 3
   },
   "file_extension": ".py",
   "mimetype": "text/x-python",
   "name": "python",
   "nbconvert_exporter": "python",
   "pygments_lexer": "ipython3",
   "version": "3.7.3"
  }
 },
 "nbformat": 4,
 "nbformat_minor": 5
}
