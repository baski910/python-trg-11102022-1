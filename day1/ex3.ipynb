{
 "cells": [
  {
   "cell_type": "code",
   "execution_count": 1,
   "id": "3fe57159",
   "metadata": {},
   "outputs": [
    {
     "name": "stdout",
     "output_type": "stream",
     "text": [
      "h\n",
      "e\n",
      "l\n",
      "l\n",
      "o\n",
      "w\n",
      "o\n",
      "r\n",
      "l\n",
      "d\n"
     ]
    }
   ],
   "source": [
    "\"\"\"Examples using string\"\"\"\n",
    "\n",
    "s1=\"helloworld\"\n",
    "\n",
    "#iterate over each character\n",
    "for char in s1:\n",
    "    print(char)"
   ]
  },
  {
   "cell_type": "code",
   "execution_count": 2,
   "id": "f1c4bcf5",
   "metadata": {},
   "outputs": [
    {
     "name": "stdout",
     "output_type": "stream",
     "text": [
      "w\n",
      "d\n"
     ]
    }
   ],
   "source": [
    "s1=\"helloworld\"\n",
    "#return character at index 4\n",
    "print(s1[5]) # output will be 'w'\n",
    "\n",
    "#preturn the last character using negative index\n",
    "print(s1[-1]) # output will be 'd'"
   ]
  },
  {
   "cell_type": "code",
   "execution_count": 3,
   "id": "5e6b2dee",
   "metadata": {},
   "outputs": [
    {
     "name": "stdout",
     "output_type": "stream",
     "text": [
      "ello\n"
     ]
    }
   ],
   "source": [
    "s1=\"helloworld\"\n",
    "#retuns character starting from index 1 upto index 5(not including). i.e., prints character at index 1,2,3 and 4\n",
    "print(s1[1:5])\n"
   ]
  },
  {
   "cell_type": "code",
   "execution_count": 4,
   "id": "fcbe4bd1",
   "metadata": {},
   "outputs": [
    {
     "name": "stdout",
     "output_type": "stream",
     "text": [
      "hello\n"
     ]
    }
   ],
   "source": [
    "#returns characters from beginning of the string upto index specified by upper limit\n",
    "print(s1[:5]) # output will be 'hello'"
   ]
  },
  {
   "cell_type": "code",
   "execution_count": 5,
   "id": "877aa8da",
   "metadata": {},
   "outputs": [
    {
     "name": "stdout",
     "output_type": "stream",
     "text": [
      "world\n",
      "helloworld\n"
     ]
    }
   ],
   "source": [
    "#returns characters upto end of the string from index specified by lower limit\n",
    "print(s1[5:]) # output will be 'world'\n",
    "\n",
    "#returns a new string with same set of characters\n",
    "print(s1[:]) # output will be 'helloworld'"
   ]
  },
  {
   "cell_type": "code",
   "execution_count": 6,
   "id": "76be4f1b",
   "metadata": {},
   "outputs": [
    {
     "name": "stdout",
     "output_type": "stream",
     "text": [
      "elwr\n"
     ]
    }
   ],
   "source": [
    "\"\"\"extended slicing can be done on a string as follows:\n",
    "string[start:stop:step]\n",
    "characters within start and stop index jumping in steps \n",
    "\"\"\"\n",
    "s1=\"helloworld\"\n",
    "\n",
    "print(s1[1:8:2]) # output will be 'elwr' - i.e., characters at index 1,3,5 and 7"
   ]
  },
  {
   "cell_type": "code",
   "execution_count": 11,
   "id": "8f3fbfc5",
   "metadata": {},
   "outputs": [
    {
     "name": "stdout",
     "output_type": "stream",
     "text": [
      "\n"
     ]
    }
   ],
   "source": [
    "s1=\"helloworld\"\n",
    "#a string can be reversed using extended slicing\n",
    "#print(s1[::-1]) # output will be 'dlrowolleh'\n",
    "#print(s1[::2])\n",
    "print(s1[::-1])"
   ]
  },
  {
   "cell_type": "code",
   "execution_count": 12,
   "id": "0fd97c20",
   "metadata": {},
   "outputs": [
    {
     "name": "stdout",
     "output_type": "stream",
     "text": [
      "helloworld\n"
     ]
    }
   ],
   "source": [
    "s2 = \"hello\"\n",
    "s3 = \"world\"\n",
    "\n",
    "print(s2+s3)"
   ]
  },
  {
   "cell_type": "code",
   "execution_count": 13,
   "id": "8774a290",
   "metadata": {},
   "outputs": [
    {
     "name": "stdout",
     "output_type": "stream",
     "text": [
      "############################################################\n"
     ]
    }
   ],
   "source": [
    "s4='#'\n",
    "\n",
    "print(s4*60)"
   ]
  },
  {
   "cell_type": "code",
   "execution_count": null,
   "id": "138f49dc",
   "metadata": {},
   "outputs": [],
   "source": []
  }
 ],
 "metadata": {
  "kernelspec": {
   "display_name": "Python 3 (ipykernel)",
   "language": "python",
   "name": "python3"
  },
  "language_info": {
   "codemirror_mode": {
    "name": "ipython",
    "version": 3
   },
   "file_extension": ".py",
   "mimetype": "text/x-python",
   "name": "python",
   "nbconvert_exporter": "python",
   "pygments_lexer": "ipython3",
   "version": "3.7.3"
  }
 },
 "nbformat": 4,
 "nbformat_minor": 5
}
