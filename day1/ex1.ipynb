{
 "cells": [
  {
   "cell_type": "code",
   "execution_count": 2,
   "id": "a0be1c28",
   "metadata": {},
   "outputs": [
    {
     "name": "stdout",
     "output_type": "stream",
     "text": [
      "100\n",
      "9082176\n"
     ]
    }
   ],
   "source": [
    "# python is a easy to learn language\n",
    "\n",
    "var1 = 100 # 100 is a python object - type of object is integer\n",
    "\n",
    "print(var1)\n",
    "\n",
    "print(id(var1)) # id - returns the reference of the object"
   ]
  },
  {
   "cell_type": "code",
   "execution_count": 3,
   "id": "1d475304",
   "metadata": {},
   "outputs": [
    {
     "name": "stdout",
     "output_type": "stream",
     "text": [
      "200\n",
      "9085376\n"
     ]
    }
   ],
   "source": [
    "var1 = 200\n",
    "\n",
    "print(var1)\n",
    "\n",
    "print(id(var1)) # id - returns the reference of the object\n"
   ]
  },
  {
   "cell_type": "code",
   "execution_count": 4,
   "id": "16a6c81f",
   "metadata": {},
   "outputs": [
    {
     "name": "stdout",
     "output_type": "stream",
     "text": [
      "200\n",
      "9085376\n"
     ]
    }
   ],
   "source": [
    "var2 = var1\n",
    "\n",
    "print(var2)\n",
    "\n",
    "print(id(var2)) # id - returns the reference of the object\n"
   ]
  },
  {
   "cell_type": "code",
   "execution_count": 5,
   "id": "735fa541",
   "metadata": {},
   "outputs": [
    {
     "name": "stdout",
     "output_type": "stream",
     "text": [
      "<class 'int'>\n"
     ]
    }
   ],
   "source": [
    "# type of object\n",
    "# type - built-in function returns the data type\n",
    "\n",
    "var1 = 50\n",
    "\n",
    "print(type(var1)) # output will be <class 'int'>\n"
   ]
  },
  {
   "cell_type": "code",
   "execution_count": 6,
   "id": "e72f8b22",
   "metadata": {},
   "outputs": [
    {
     "name": "stdout",
     "output_type": "stream",
     "text": [
      "<class 'float'>\n"
     ]
    }
   ],
   "source": [
    "var1 = 20.45\n",
    "\n",
    "print(type(var1)) # output will be <class 'float'>"
   ]
  },
  {
   "cell_type": "code",
   "execution_count": 7,
   "id": "d578e12b",
   "metadata": {},
   "outputs": [
    {
     "name": "stdout",
     "output_type": "stream",
     "text": [
      "<class 'str'>\n"
     ]
    }
   ],
   "source": [
    "var1 = \"helloworld\"\n",
    "\n",
    "print(type(var1)) # output will be <class 'str'>"
   ]
  },
  {
   "cell_type": "code",
   "execution_count": 8,
   "id": "10954c93",
   "metadata": {},
   "outputs": [
    {
     "name": "stdout",
     "output_type": "stream",
     "text": [
      "<class 'tuple'>\n"
     ]
    }
   ],
   "source": [
    "var1 = ('hello',25,12,'world')\n",
    "\n",
    "print(type(var1)) # output will be <class 'tuple'>"
   ]
  },
  {
   "cell_type": "code",
   "execution_count": 9,
   "id": "f77ceb02",
   "metadata": {},
   "outputs": [
    {
     "name": "stdout",
     "output_type": "stream",
     "text": [
      "<class 'list'>\n"
     ]
    }
   ],
   "source": [
    "var1 = ['hello',25,12,'world']\n",
    "\n",
    "print(type(var1)) # output will be <class 'list'>"
   ]
  },
  {
   "cell_type": "code",
   "execution_count": 10,
   "id": "5706dfeb",
   "metadata": {},
   "outputs": [
    {
     "name": "stdout",
     "output_type": "stream",
     "text": [
      "<class 'dict'>\n"
     ]
    }
   ],
   "source": [
    "var1 = {'os': 'linux','language': 'python'}\n",
    "\n",
    "print(type(var1)) # output will be <class 'dict'>"
   ]
  },
  {
   "cell_type": "code",
   "execution_count": null,
   "id": "e236d9bc",
   "metadata": {},
   "outputs": [],
   "source": []
  }
 ],
 "metadata": {
  "kernelspec": {
   "display_name": "Python 3 (ipykernel)",
   "language": "python",
   "name": "python3"
  },
  "language_info": {
   "codemirror_mode": {
    "name": "ipython",
    "version": 3
   },
   "file_extension": ".py",
   "mimetype": "text/x-python",
   "name": "python",
   "nbconvert_exporter": "python",
   "pygments_lexer": "ipython3",
   "version": "3.7.3"
  }
 },
 "nbformat": 4,
 "nbformat_minor": 5
}
