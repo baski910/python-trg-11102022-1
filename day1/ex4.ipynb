{
 "cells": [
  {
   "cell_type": "code",
   "execution_count": 1,
   "id": "13dbaae2",
   "metadata": {},
   "outputs": [
    {
     "name": "stdout",
     "output_type": "stream",
     "text": [
      "HELLOWORLD\n",
      "5\n",
      "-1\n"
     ]
    }
   ],
   "source": [
    "# string functions\n",
    "s1=\"helloworld\"\n",
    "\n",
    "print(s1.upper()) # output will be HELLOWORLD\n",
    "\n",
    "print(s1.find('w')) # returns the index of 1st occurance of argument. output will be 5\n",
    "\n",
    "print(s1.find('a')) # output will be -1"
   ]
  },
  {
   "cell_type": "code",
   "execution_count": null,
   "id": "df4b17cb",
   "metadata": {},
   "outputs": [],
   "source": [
    "help(str)"
   ]
  },
  {
   "cell_type": "code",
   "execution_count": 5,
   "id": "23c16f65",
   "metadata": {},
   "outputs": [
    {
     "name": "stdout",
     "output_type": "stream",
     "text": [
      "5\n",
      "sub string not found\n"
     ]
    }
   ],
   "source": [
    "s1=\"helloworld\"\n",
    "\n",
    "print(s1.index('w')) # output will be 5\n",
    "\n",
    "try:\n",
    "    print(s1.index('a')) # throws error\n",
    "except:\n",
    "    print(\"sub string not found\")"
   ]
  },
  {
   "cell_type": "code",
   "execution_count": 9,
   "id": "436a8c3e",
   "metadata": {},
   "outputs": [
    {
     "name": "stdout",
     "output_type": "stream",
     "text": [
      "gwddtitudl\n",
      "helloworld\n"
     ]
    }
   ],
   "source": [
    "'''\n",
    "Take input from user and convert it to cipher by using substitution cipher.\n",
    "Every alphabet is replaced with corresponding alphabet in key.\n",
    "alphabet = 'abcdefghijklmnopqrstuvwxyz'\n",
    "key = 'xznlwebgjhqdyvtkfuompciasr' \n",
    "if the input has letter 'a' it will be replaced with 'x' and for 'b' it\n",
    "will be replaced with 'z' and it goes on\n",
    "'''\n",
    "\n",
    "alphabet = 'abcdefghijklmnopqrstuvwxyz'\n",
    "key = 'xznlwebgjhqdyvtkfuompciasr' \n",
    "\n",
    "input = \"helloworld\"\n",
    "\n",
    "cipher = ''\n",
    "\n",
    "message = ''\n",
    "\n",
    "for char in input:\n",
    "    cipher += key[alphabet.index(char)]\n",
    "    \n",
    "print(cipher)\n",
    "\n",
    "for char in cipher:\n",
    "    message += alphabet[key.index(char)]\n",
    "    \n",
    "print(message)"
   ]
  },
  {
   "cell_type": "code",
   "execution_count": null,
   "id": "eafa8be4",
   "metadata": {},
   "outputs": [],
   "source": []
  }
 ],
 "metadata": {
  "kernelspec": {
   "display_name": "Python 3 (ipykernel)",
   "language": "python",
   "name": "python3"
  },
  "language_info": {
   "codemirror_mode": {
    "name": "ipython",
    "version": 3
   },
   "file_extension": ".py",
   "mimetype": "text/x-python",
   "name": "python",
   "nbconvert_exporter": "python",
   "pygments_lexer": "ipython3",
   "version": "3.7.3"
  }
 },
 "nbformat": 4,
 "nbformat_minor": 5
}
