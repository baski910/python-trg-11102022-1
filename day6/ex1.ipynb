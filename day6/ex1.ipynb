{
 "cells": [
  {
   "cell_type": "code",
   "execution_count": 6,
   "id": "817b2a14",
   "metadata": {},
   "outputs": [
    {
     "name": "stderr",
     "output_type": "stream",
     "text": [
      "/home/baskar/venv-python37/lib/python3.7/site-packages/IPython/core/interactiveshell.py:3553: DtypeWarning: Columns (7,8,18,25) have mixed types.Specify dtype option on import or set low_memory=False.\n",
      "  exec(code_obj, self.user_global_ns, self.user_ns)\n"
     ]
    },
    {
     "data": {
      "image/png": "[encoded data removed]",
      "text/plain": [
       "<Figure size 432x288 with 1 Axes>"
      ]
     },
     "metadata": {
      "needs_background": "light"
     },
     "output_type": "display_data"
    }
   ],
   "source": [
    "# linear regression\n",
    "# pip install scikit-learn\n",
    "# supervised - both input and output are used for training\n",
    "import pandas as pd  \n",
    "import numpy as np  \n",
    "import matplotlib.pyplot as plt  \n",
    "from sklearn.model_selection import train_test_split \n",
    "from sklearn.linear_model import LinearRegression\n",
    "\n",
    "df = pd.read_csv('Weather.csv')\n",
    "\n",
    "#print(df.head())\n",
    "\n",
    "x = df['MinTemp'].values.reshape(-1,1)\n",
    "#print(x)\n",
    "\n",
    "y = df['MaxTemp'].values.reshape(-1,1)\n",
    "#print(y)\n",
    "\n",
    "x_train,x_test,y_train,y_test = train_test_split(x,y,test_size=0.2,random_state=1)\n",
    "\n",
    "linreg = LinearRegression()\n",
    "linreg.fit(x_train,y_train)\n",
    "\n",
    "y_pred = linreg.predict(x_test)\n",
    "\n",
    "df1 = pd.DataFrame({'Actual': y_test.flatten(),'Predicated': y_pred.flatten()})\n",
    "#print(y_test.flatten())\n",
    "df1 = df1.head(25)\n",
    "df1.plot(kind='bar')\n",
    "\n",
    "plt.show()"
   ]
  },
  {
   "cell_type": "code",
   "execution_count": null,
   "id": "6abd1544",
   "metadata": {},
   "outputs": [],
   "source": [
    "x_train,x_test,y_train,y_test = train_test_split(x,y,test_size=0.2,random_state=1)\n",
    "\n",
    "linreg = LinearRegression()\n",
    "linreg.fit(x_train,y_train)\n",
    "\n",
    "y_pred = linreg.predict(x_test)\n",
    "\n",
    "df1 = pd.DataFrame({'Actual': y_test.flatten(),'Predicated': y_pred.flatten()})\n",
    "#print(y_test.flatten())\n",
    "df1 = df1.head(25)\n",
    "df1.plot(kind='bar')\n",
    "\n",
    "plt.show()"
   ]
  },
  {
   "cell_type": "code",
   "execution_count": null,
   "id": "b10bd337",
   "metadata": {},
   "outputs": [],
   "source": []
  }
 ],
 "metadata": {
  "kernelspec": {
   "display_name": "Python 3 (ipykernel)",
   "language": "python",
   "name": "python3"
  },
  "language_info": {
   "codemirror_mode": {
    "name": "ipython",
    "version": 3
   },
   "file_extension": ".py",
   "mimetype": "text/x-python",
   "name": "python",
   "nbconvert_exporter": "python",
   "pygments_lexer": "ipython3",
   "version": "3.7.3"
  }
 },
 "nbformat": 4,
 "nbformat_minor": 5
}
