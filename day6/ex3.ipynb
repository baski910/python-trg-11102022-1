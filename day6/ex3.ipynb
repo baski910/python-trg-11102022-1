{
 "cells": [
  {
   "cell_type": "code",
   "execution_count": 7,
   "id": "7f35bfbe",
   "metadata": {},
   "outputs": [
    {
     "data": {
      "image/png": "[encoded data removed]",
      "text/plain": [
       "<Figure size 432x288 with 1 Axes>"
      ]
     },
     "metadata": {
      "needs_background": "light"
     },
     "output_type": "display_data"
    }
   ],
   "source": [
    "# m1 = data[0]\n",
    "# m2 = data[1]\n",
    "# m3 = data[2]\n",
    "\n",
    "# d1 = {0: m1,1: m2,2: m3}\n",
    "# v = data[0]\n",
    "# differences = [diff(m1-v), diff(m2-v), diff(m3-v)]\n",
    "\n",
    "# differnces.index(min(differences))\n",
    "# d2 = {0:[],1:[],2:[]}\n",
    "import pandas as pd\n",
    "import numpy as np\n",
    "import matplotlib.pyplot as plt\n",
    "\n",
    "class kmeans:\n",
    "    def __init__(self,k=3,tolerance=0.0001,max_iterations=500):\n",
    "        self.k = k\n",
    "        self.tolerance = tolerance\n",
    "        self.max_iterations = max_iterations\n",
    "        \n",
    "    def fit(self,data):\n",
    "        self.averages = {}\n",
    "        \n",
    "        for i in range(self.k):\n",
    "            self.averages[i] = data[i]\n",
    "        \n",
    "        for i in range(self.max_iterations):\n",
    "            self.categories = {}\n",
    "            for i in range(self.k):\n",
    "                self.categories[i] = []\n",
    "            for val in data:\n",
    "                distances = [np.linalg.norm(val-self.averages[x]) for x in self.averages]\n",
    "                idx = distances.index(min(distances))\n",
    "                self.categories[idx].append(val)\n",
    "                \n",
    "            prev_avg = dict(self.averages)\n",
    "            \n",
    "            for cat in self.categories:\n",
    "                self.averages[cat] = np.average(self.categories[cat],axis=0)\n",
    "            \n",
    "            isOptimal = True\n",
    "            \n",
    "            for idx in self.averages:\n",
    "                original_avg = prev_avg[idx]\n",
    "                cur_avg = self.averages[idx]\n",
    "                if np.sum((cur_avg - original_avg)/original_avg*100)> self.tolerance:\n",
    "                    isOptimal = False\n",
    "            if isOptimal:\n",
    "                break\n",
    "\n",
    "def main():\n",
    "    df = pd.read_csv('ipl.csv')\n",
    "    x = df.values\n",
    "    \n",
    "    #print(x[:10])\n",
    "    km = kmeans()\n",
    "    km.fit(x)\n",
    "    \n",
    "    colors = [\"c\",\"g\",\"r\",\"b\",\"k\"]*10\n",
    "    \n",
    "    for p in km.averages:\n",
    "        plt.scatter(km.averages[p][0],km.averages[p][1], s=130, marker='x')\n",
    "    \n",
    "    for d in km.categories:\n",
    "        color = colors[d]\n",
    "        for val in km.categories[d]:\n",
    "            plt.scatter(val[0],val[1],color=color,s=30)\n",
    "    \n",
    "    plt.show()\n",
    "    \n",
    "if __name__ == '__main__':\n",
    "    main()"
   ]
  },
  {
   "cell_type": "code",
   "execution_count": null,
   "id": "9b119e2e",
   "metadata": {},
   "outputs": [],
   "source": []
  }
 ],
 "metadata": {
  "kernelspec": {
   "display_name": "Python 3 (ipykernel)",
   "language": "python",
   "name": "python3"
  },
  "language_info": {
   "codemirror_mode": {
    "name": "ipython",
    "version": 3
   },
   "file_extension": ".py",
   "mimetype": "text/x-python",
   "name": "python",
   "nbconvert_exporter": "python",
   "pygments_lexer": "ipython3",
   "version": "3.7.3"
  }
 },
 "nbformat": 4,
 "nbformat_minor": 5
}
