{
 "cells": [
  {
   "cell_type": "code",
   "execution_count": 6,
   "id": "664c3f2c",
   "metadata": {},
   "outputs": [
    {
     "name": "stdout",
     "output_type": "stream",
     "text": [
      "     Actual  Predicted\n",
      "507       0          1\n",
      "818       1          1\n",
      "452       0          0\n",
      "368       1          1\n",
      "242       1          1\n"
     ]
    }
   ],
   "source": [
    "# logistic regression \n",
    "# dependent and indepent variable\n",
    "# dependent variable will be in binary i.e, 0/1 or  yes/no or true/false\n",
    "\n",
    "import pandas as pd  \n",
    "import numpy as np  \n",
    "import matplotlib.pyplot as plt  \n",
    "from sklearn.model_selection import train_test_split \n",
    "from sklearn.linear_model import LogisticRegression\n",
    "\n",
    "df = pd.read_csv('Student-Pass-Fail-Data.csv')\n",
    "\n",
    "#print(df.head())\n",
    "\n",
    "x = df.drop('Pass_Or_Fail',axis=1)\n",
    "#print(x.head())\n",
    "y = df['Pass_Or_Fail']\n",
    "#print(y)\n",
    "\n",
    "x_train,x_test,y_train,y_test = train_test_split(x,y,test_size=0.2,random_state=1)\n",
    "\n",
    "lg = LogisticRegression()\n",
    "\n",
    "lg.fit(x_train,y_train)\n",
    "\n",
    "y_pred = lg.predict(x_test)\n",
    "\n",
    "df1 = pd.DataFrame({'Actual': y_test,'Predicted': y_pred})\n",
    "\n",
    "print(df1.head())"
   ]
  },
  {
   "cell_type": "code",
   "execution_count": null,
   "id": "b4a7091c",
   "metadata": {},
   "outputs": [],
   "source": []
  }
 ],
 "metadata": {
  "kernelspec": {
   "display_name": "Python 3 (ipykernel)",
   "language": "python",
   "name": "python3"
  },
  "language_info": {
   "codemirror_mode": {
    "name": "ipython",
    "version": 3
   },
   "file_extension": ".py",
   "mimetype": "text/x-python",
   "name": "python",
   "nbconvert_exporter": "python",
   "pygments_lexer": "ipython3",
   "version": "3.7.3"
  }
 },
 "nbformat": 4,
 "nbformat_minor": 5
}
