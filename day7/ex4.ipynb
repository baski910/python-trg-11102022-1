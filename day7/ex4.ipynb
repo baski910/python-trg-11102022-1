{
 "cells": [
  {
   "cell_type": "code",
   "execution_count": null,
   "id": "1c4becf2",
   "metadata": {},
   "outputs": [
    {
     "name": "stdout",
     "output_type": "stream",
     "text": [
      " * Serving Flask app '__main__' (lazy loading)\n",
      " * Environment: production\n",
      "\u001b[31m   WARNING: This is a development server. Do not use it in a production deployment.\u001b[0m\n",
      "\u001b[2m   Use a production WSGI server instead.\u001b[0m\n",
      " * Debug mode: off\n"
     ]
    },
    {
     "name": "stderr",
     "output_type": "stream",
     "text": [
      " * Running on http://127.0.0.1:5000 (Press CTRL+C to quit)\n",
      "127.0.0.1 - - [19/Oct/2022 15:45:51] \"GET / HTTP/1.1\" 200 -\n"
     ]
    }
   ],
   "source": [
    "# flask - microservices framework \n",
    "# pip install flask\n",
    "# pip install flask-sqlalchemy\n",
    "# pip install flask-restapi\n",
    "\n",
    "from flask import Flask, render_template\n",
    "\n",
    "app = Flask(__name__) # creates an instance of flask\n",
    "\n",
    "@app.route('/') # / - http://localhost:portnumber\n",
    "def home():\n",
    "    #msg = \"message from flask application\"\n",
    "    #list_of_names = ['sam','raj','tom','mahi']\n",
    "    list_of_persons = [ \n",
    "        {'name':'sam','age':20},\n",
    "        {'name':'tom','age':21},\n",
    "        {'name':'raj','age':20}\n",
    "    ]\n",
    "    return render_template(\"index.html\",names = list_of_persons)\n",
    "    #return \"helloworld\"\n",
    "\n",
    "@app.route('/hello') # /hello - http://localhost:portnumber/hello\n",
    "def writehello():\n",
    "    return \"this is from write hello function\"\n",
    "\n",
    "# __name__ - returns the name space of currently executing script (__main__)\n",
    "\n",
    "if __name__ == '__main__':\n",
    "    app.run() # start flask application"
   ]
  },
  {
   "cell_type": "code",
   "execution_count": null,
   "id": "19dc640b",
   "metadata": {},
   "outputs": [],
   "source": []
  }
 ],
 "metadata": {
  "kernelspec": {
   "display_name": "Python 3 (ipykernel)",
   "language": "python",
   "name": "python3"
  },
  "language_info": {
   "codemirror_mode": {
    "name": "ipython",
    "version": 3
   },
   "file_extension": ".py",
   "mimetype": "text/x-python",
   "name": "python",
   "nbconvert_exporter": "python",
   "pygments_lexer": "ipython3",
   "version": "3.7.3"
  }
 },
 "nbformat": 4,
 "nbformat_minor": 5
}
