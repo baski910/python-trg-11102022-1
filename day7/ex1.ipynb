{
 "cells": [
  {
   "cell_type": "code",
   "execution_count": 6,
   "id": "d2b6619c",
   "metadata": {},
   "outputs": [
    {
     "name": "stdout",
     "output_type": "stream",
     "text": [
      "     first_name   last_name                             email\n",
      "0       Aleshia  Tomkiewicz           atomkiewicz@hotmail.com\n",
      "1          Evan   Zigomalas          evan.zigomalas@gmail.com\n",
      "2        France     Andrade        france.andrade@hotmail.com\n",
      "3       Ulysses   Mcwalters               ulysses@hotmail.com\n",
      "4        Tyisha      Veness         tyisha.veness@hotmail.com\n",
      "5          Eric       Rampy                erampy@rampy.co.uk\n",
      "6          Marg    Grasmick                  marg@hotmail.com\n",
      "7       Laquita       Hisaw                 laquita@yahoo.com\n",
      "8          Lura    Manzella                  lura@hotmail.com\n",
      "9        Yuette      Klapec        yuette.klapec@klapec.co.uk\n",
      "10     Fernanda      Writer             fernanda@writer.co.uk\n",
      "11  Charlesetta         Erm         charlesetta_erm@gmail.com\n",
      "12     Corrinne       Jaret          corrinne_jaret@gmail.com\n",
      "13       Niesha       Bruch            niesha.bruch@yahoo.com\n",
      "14       Rueben   Gastellum  rueben_gastellum@gastellum.co.uk\n",
      "15      Michell   Throssell        mthrossell@throssell.co.uk\n",
      "16        Edgar       Kanne             edgar.kanne@yahoo.com\n",
      "17       Dewitt       Julio          dewitt.julio@hotmail.com\n",
      "18     Charisse    Spinello  charisse_spinello@spinello.co.uk\n",
      "19          Mee    Lapinski            mee.lapinski@yahoo.com\n",
      "20     Fernanda      Writer             fernanda@writer.co.uk\n",
      "21  Charlesetta         Erm         charlesetta_erm@gmail.com\n",
      "22     Corrinne       Jaret          corrinne_jaret@gmail.com\n",
      "23       Niesha       Bruch            niesha.bruch@yahoo.com\n",
      "24       Rueben   Gastellum  rueben_gastellum@gastellum.co.uk\n",
      "25      Michell   Throssell        mthrossell@throssell.co.uk\n",
      "26        Edgar       Kanne             edgar.kanne@yahoo.com\n",
      "27       Dewitt       Julio          dewitt.julio@hotmail.com\n",
      "28     Charisse    Spinello  charisse_spinello@spinello.co.uk\n",
      "29          Mee    Lapinski            mee.lapinski@yahoo.com\n"
     ]
    }
   ],
   "source": [
    "# first_name, last_name, email\n",
    "\n",
    "# email, last_name, first_name\n",
    "\n",
    "# last_name, first_name, email\n",
    "\n",
    "# df = empty\n",
    "# df4\n",
    "import pandas as pd\n",
    "\n",
    "df1 = pd.read_excel('test.xlsx',sheet_name='Sheet2')\n",
    "df2 = pd.read_excel('test.xlsx',sheet_name='Sheet3')\n",
    "df3 = pd.read_excel('test.xlsx',sheet_name='Sheet4')\n",
    "\n",
    "#print(df1)\n",
    "#print(df2)\n",
    "columns = ['first_name','last_name','email']\n",
    "df4 = pd.DataFrame(columns=columns)\n",
    "df5 = pd.DataFrame(columns=columns)\n",
    "df6 = pd.DataFrame(columns=columns)\n",
    "\n",
    "for col in ['first_name','last_name','email']:\n",
    "    df4[col] = df1[col]\n",
    "    df5[col] = df2[col]\n",
    "    df6[col] = df2[col]\n",
    "\n",
    "df = pd.concat([df4,df5,df6, ])\n",
    "    \n",
    "#print(df)\n",
    "\n",
    "df = df.reset_index()\n",
    "\n",
    "df = df.drop('index',axis=1)\n",
    "\n",
    "print(df)"
   ]
  },
  {
   "cell_type": "code",
   "execution_count": null,
   "id": "763f4d80",
   "metadata": {},
   "outputs": [],
   "source": []
  }
 ],
 "metadata": {
  "kernelspec": {
   "display_name": "Python 3 (ipykernel)",
   "language": "python",
   "name": "python3"
  },
  "language_info": {
   "codemirror_mode": {
    "name": "ipython",
    "version": 3
   },
   "file_extension": ".py",
   "mimetype": "text/x-python",
   "name": "python",
   "nbconvert_exporter": "python",
   "pygments_lexer": "ipython3",
   "version": "3.7.3"
  }
 },
 "nbformat": 4,
 "nbformat_minor": 5
}
