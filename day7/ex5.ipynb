{
 "cells": [
  {
   "cell_type": "code",
   "execution_count": 1,
   "id": "0af3dda4",
   "metadata": {},
   "outputs": [],
   "source": [
    "# flask - microservices framework \n",
    "# pip install flask\n",
    "# pip install flask-sqlalchemy\n",
    "# pip install flask-restapi\n",
    "\n",
    "from flask import Flask, render_template, request, redirect, url_for\n",
    "\n",
    "app = Flask(__name__) # creates an instance of flask\n",
    "\n",
    "@app.route('/') # / - http://localhost:portnumber\n",
    "def home():\n",
    "    return render_template(\"test.html\")\n",
    "    #return \"helloworld\"\n",
    "\n",
    "@app.route('/hello',methods=['GET','POST']) # /hello - http://localhost:portnumber/hello\n",
    "def writehello():\n",
    "    if request.method == 'POST':\n",
    "        email = request.form['email']\n",
    "        organization = request.form['organization']\n",
    "        return f\"<h2>welcome {email}<h2>\"\n",
    "    return redirect(url_for('home'))\n",
    "\n",
    "# __name__ - returns the name space of currently executing script (__main__)\n",
    "\n",
    "if __name__ == '__main__':\n",
    "    app.run() # start flask application"
   ]
  },
  {
   "cell_type": "code",
   "execution_count": null,
   "id": "7f49ddf7",
   "metadata": {},
   "outputs": [],
   "source": []
  }
 ],
 "metadata": {
  "kernelspec": {
   "display_name": "Python 3 (ipykernel)",
   "language": "python",
   "name": "python3"
  },
  "language_info": {
   "codemirror_mode": {
    "name": "ipython",
    "version": 3
   },
   "file_extension": ".py",
   "mimetype": "text/x-python",
   "name": "python",
   "nbconvert_exporter": "python",
   "pygments_lexer": "ipython3",
   "version": "3.7.3"
  }
 },
 "nbformat": 4,
 "nbformat_minor": 5
}
