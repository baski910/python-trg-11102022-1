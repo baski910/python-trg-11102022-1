{
 "cells": [
  {
   "cell_type": "code",
   "execution_count": 5,
   "id": "1bd16dfd",
   "metadata": {},
   "outputs": [
    {
     "name": "stdout",
     "output_type": "stream",
     "text": [
      "[1106.  190.  235. ...  485.  409.  616.]\n",
      "[[0.01126799 0.00193573 0.00239419 ... 0.00494121 0.00416692 0.00627585]]\n",
      "   longitude  latitude  housingMedianAge  totalRooms  totalBedrooms  \\\n",
      "0  -0.000341  0.000106          0.000059    0.019797       0.003084   \n",
      "1  -0.000347  0.000107          0.000148    0.004166       0.000540   \n",
      "2  -0.000358  0.000111          0.000152    0.003733       0.000689   \n",
      "3  -0.000357  0.000111          0.000152    0.004754       0.000818   \n",
      "4  -0.000453  0.000140          0.000193    0.003407       0.000790   \n",
      "\n",
      "   population  households  medianIncome  medianHouseValue  \n",
      "0    0.006696    0.003174      0.000023          0.999772  \n",
      "1    0.001409    0.000503      0.000021          0.999990  \n",
      "2    0.001635    0.000642      0.000017          0.999991  \n",
      "3    0.001651    0.000757      0.000011          0.999987  \n",
      "4    0.001531    0.000716      0.000015          0.999992  \n"
     ]
    }
   ],
   "source": [
    "# kaggle datasets\n",
    "\n",
    "import pandas as pd\n",
    "import numpy as np\n",
    "from sklearn import preprocessing\n",
    "\n",
    "df = pd.read_csv('california_housing_data.csv')\n",
    "\n",
    "\n",
    "labels = [\n",
    "    \"longitude\",\n",
    "    \"latitude\",\n",
    "    \"housingMedianAge\",\n",
    "    \"totalRooms\",\n",
    "    \"totalBedrooms\",\n",
    "    \"population\",\n",
    "    \"households\",\n",
    "    \"medianIncome\",\n",
    "    \"medianHouseValue\"\n",
    "]\n",
    "\n",
    "df.columns = labels\n",
    "\n",
    "arr1 = np.array(df['totalBedrooms'])\n",
    "\n",
    "print(arr1)\n",
    "\n",
    "normalised_arr1 = preprocessing.normalize([arr1])\n",
    "\n",
    "print(normalised_arr1)\n",
    "\n",
    "g =  preprocessing.normalize(df)\n",
    "\n",
    "n_df = pd.DataFrame(g, columns=labels)\n",
    "\n",
    "print(n_df.head())"
   ]
  },
  {
   "cell_type": "code",
   "execution_count": null,
   "id": "1b88449e",
   "metadata": {},
   "outputs": [],
   "source": []
  }
 ],
 "metadata": {
  "kernelspec": {
   "display_name": "Python 3 (ipykernel)",
   "language": "python",
   "name": "python3"
  },
  "language_info": {
   "codemirror_mode": {
    "name": "ipython",
    "version": 3
   },
   "file_extension": ".py",
   "mimetype": "text/x-python",
   "name": "python",
   "nbconvert_exporter": "python",
   "pygments_lexer": "ipython3",
   "version": "3.7.3"
  }
 },
 "nbformat": 4,
 "nbformat_minor": 5
}
