{
 "cells": [
  {
   "cell_type": "code",
   "execution_count": null,
   "id": "7e7a016c",
   "metadata": {},
   "outputs": [],
   "source": [
    "# to install django from jupyter - !pip install django\n",
    "# step 1 - create a project\n",
    "# from command line (cmd) - django-admin startproject simpleproject1\n",
    "# cd simpleproject1\n",
    "# python manage.py startapp simpleapp1\n",
    "# start the server\n",
    "# python manage.py runserver\n",
    "\n",
    "# now access your application from browser using http://localhost:8000\n",
    "\n",
    "# step 2\n",
    "# edit simpleproject1/settings.py\n",
    "# add the name of application i.e., 'simpleapp1' to INSTALLED_APPS list\n",
    "# start the server\n",
    "# python manage.py runserver\n",
    "\n",
    "# step 3 # return custom response\n",
    "# edit simpleapp1/views.py\n",
    "#from django.http import HttpResponse\n",
    "\n",
    "#def index(request):\n",
    "#    return HttpResponse(\"<h1>Welcome to Django</h1>\")\n",
    "\n",
    "# create a file name 'urls.py' below simpleapp1\n",
    "# from django.urls import path\n",
    "# from . import views\n",
    "\n",
    "# urlpatterns = [\n",
    "#     path('',views.index,name='index')\n",
    "#]\n",
    "\n",
    "# edit simpleproject1/urls.py\n",
    "# from django.urls import path, include\n",
    "\n",
    "# urlpatterns = [\n",
    "#    path('simpleapp1/',include(('simpleapp1.urls','simpleapp1'),namespace='simpleapp1'))),\n",
    "#    ....existing lines...\n",
    "#]\n"
   ]
  }
 ],
 "metadata": {
  "kernelspec": {
   "display_name": "Python 3 (ipykernel)",
   "language": "python",
   "name": "python3"
  },
  "language_info": {
   "codemirror_mode": {
    "name": "ipython",
    "version": 3
   },
   "file_extension": ".py",
   "mimetype": "text/x-python",
   "name": "python",
   "nbconvert_exporter": "python",
   "pygments_lexer": "ipython3",
   "version": "3.7.3"
  }
 },
 "nbformat": 4,
 "nbformat_minor": 5
}
