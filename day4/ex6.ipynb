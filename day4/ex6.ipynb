{
 "cells": [
  {
   "cell_type": "code",
   "execution_count": 1,
   "id": "141231c5",
   "metadata": {},
   "outputs": [
    {
     "name": "stdout",
     "output_type": "stream",
     "text": [
      "ID:1,Title:programming in python\n",
      "ID:2,Title:programming in c\n"
     ]
    }
   ],
   "source": [
    "import psycopg2\n",
    "import sys\n",
    "\n",
    "conn = psycopg2.connect(host='localhost',user='demodb_user',password='password',dbname='demodb_1')\n",
    "\n",
    "if not conn:\n",
    "    sys.exit()\n",
    "    \n",
    "cur = conn.cursor()\n",
    "\n",
    "try:\n",
    "    #cur.execute(\"create table books(bookid int,booktitle varchar(50))\")\n",
    "    cur.execute(\"select * from books\")\n",
    "    #conn.commit()\n",
    "except:\n",
    "    print(\"error executing query\")\n",
    "else:\n",
    "    #print(\"table created\")\n",
    "    records = cur.fetchall()\n",
    "    for row in records:\n",
    "        print(f\"ID:{row[0]},Title:{row[1]}\")\n",
    "    #print(\"record created\")\n",
    "finally:\n",
    "    conn.close()"
   ]
  },
  {
   "cell_type": "code",
   "execution_count": null,
   "id": "6cfa0773",
   "metadata": {},
   "outputs": [],
   "source": []
  }
 ],
 "metadata": {
  "kernelspec": {
   "display_name": "Python 3 (ipykernel)",
   "language": "python",
   "name": "python3"
  },
  "language_info": {
   "codemirror_mode": {
    "name": "ipython",
    "version": 3
   },
   "file_extension": ".py",
   "mimetype": "text/x-python",
   "name": "python",
   "nbconvert_exporter": "python",
   "pygments_lexer": "ipython3",
   "version": "3.7.3"
  }
 },
 "nbformat": 4,
 "nbformat_minor": 5
}
