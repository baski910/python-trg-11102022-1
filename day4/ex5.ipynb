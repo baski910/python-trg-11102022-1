{
 "cells": [
  {
   "cell_type": "code",
   "execution_count": 1,
   "id": "f07f88f6",
   "metadata": {},
   "outputs": [],
   "source": [
    "# xampp - www.apachefriends.org\n",
    "\n",
    "# mysql - pymysql\n",
    "# postgresql - psycopg2\n",
    "# oracle - cx_Oracle\n",
    "\n",
    "# create a connection object\n",
    "# conn = psycopg2.connect(host='localhost',user='',password='',db='')\n",
    "\n",
    "# cursor object\n",
    "# cur = conn.cursor()\n",
    "\n",
    "# execute sql query\n",
    "# cur.execute(\"insert into tablename values()\")\n",
    "# conn.commit()\n",
    "\n",
    "# close the connection\n",
    "# conn.close()"
   ]
  },
  {
   "cell_type": "code",
   "execution_count": 3,
   "id": "94fbd24d",
   "metadata": {},
   "outputs": [
    {
     "name": "stdout",
     "output_type": "stream",
     "text": [
      "table created\n"
     ]
    }
   ],
   "source": [
    "import psycopg2\n",
    "import sys\n",
    "\n",
    "conn = psycopg2.connect(host='localhost',user='demodb_user',password='password',dbname='demodb_1')\n",
    "\n",
    "if not conn:\n",
    "    sys.exit()\n",
    "    \n",
    "cur = conn.cursor()\n",
    "\n",
    "try:\n",
    "    cur.execute(\"create table books(bookid int,booktitle varchar(50))\")\n",
    "    conn.commit()\n",
    "except:\n",
    "    print(\"error executing query\")\n",
    "else:\n",
    "    print(\"table created\")\n",
    "finally:\n",
    "    conn.close()"
   ]
  },
  {
   "cell_type": "code",
   "execution_count": null,
   "id": "d4e02888",
   "metadata": {},
   "outputs": [],
   "source": []
  }
 ],
 "metadata": {
  "kernelspec": {
   "display_name": "Python 3 (ipykernel)",
   "language": "python",
   "name": "python3"
  },
  "language_info": {
   "codemirror_mode": {
    "name": "ipython",
    "version": 3
   },
   "file_extension": ".py",
   "mimetype": "text/x-python",
   "name": "python",
   "nbconvert_exporter": "python",
   "pygments_lexer": "ipython3",
   "version": "3.7.3"
  }
 },
 "nbformat": 4,
 "nbformat_minor": 5
}
