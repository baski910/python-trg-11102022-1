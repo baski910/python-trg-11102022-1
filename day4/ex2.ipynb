{
 "cells": [
  {
   "cell_type": "code",
   "execution_count": 2,
   "id": "c65e7e89",
   "metadata": {},
   "outputs": [
    {
     "name": "stdout",
     "output_type": "stream",
     "text": [
      "       date    co2   datetime\n",
      "0  19580329  316.1 1958-03-29\n",
      "1  19580405  317.3 1958-04-05\n",
      "2  19580412  317.6 1958-04-12\n",
      "3  19580419  317.5 1958-04-19\n",
      "4  19580426  316.4 1958-04-26\n"
     ]
    }
   ],
   "source": [
    "# statsmodels - package providing datasets in public domain\n",
    "# !pip install statsmodels\n",
    "# time series plot\n",
    "\n",
    "import pandas as pd\n",
    "import matplotlib.pyplot as plt\n",
    "import dateutil as du\n",
    "\n",
    "df = pd.read_csv('/home/baskar/venv-python37/lib/python3.7/site-packages/statsmodels/datasets/co2/co2.csv')\n",
    "\n",
    "#print(df.head()) # print 1st 5 rows\n",
    "\n",
    "df['datetime'] = df['date'].apply(lambda x: du.parser.parse(str(x)))\n",
    "\n",
    "print(df.head())"
   ]
  },
  {
   "cell_type": "code",
   "execution_count": 4,
   "id": "3a096dae",
   "metadata": {},
   "outputs": [
    {
     "name": "stdout",
     "output_type": "stream",
     "text": [
      "                date    co2   datetime\n",
      "datetime                              \n",
      "1958-03-29  19580329  316.1 1958-03-29\n",
      "1958-04-05  19580405  317.3 1958-04-05\n",
      "1958-04-12  19580412  317.6 1958-04-12\n",
      "1958-04-19  19580419  317.5 1958-04-19\n",
      "1958-04-26  19580426  316.4 1958-04-26\n"
     ]
    }
   ],
   "source": [
    "# DatetimeIndex - set the date time column as index\n",
    "\n",
    "df.set_index(pd.DatetimeIndex(df['datetime']),inplace=True) # changes the dataframe inline\n",
    "\n",
    "print(df.head())"
   ]
  },
  {
   "cell_type": "code",
   "execution_count": 5,
   "id": "6b9ad28a",
   "metadata": {},
   "outputs": [
    {
     "name": "stdout",
     "output_type": "stream",
     "text": [
      "              co2   datetime\n",
      "datetime                    \n",
      "1958-03-29  316.1 1958-03-29\n",
      "1958-04-05  317.3 1958-04-05\n",
      "1958-04-12  317.6 1958-04-12\n",
      "1958-04-19  317.5 1958-04-19\n",
      "1958-04-26  316.4 1958-04-26\n"
     ]
    }
   ],
   "source": [
    "df.drop(['date'],axis=1,inplace=True)\n",
    "\n",
    "print(df.head())"
   ]
  },
  {
   "cell_type": "code",
   "execution_count": 8,
   "id": "a90de255",
   "metadata": {},
   "outputs": [
    {
     "name": "stdout",
     "output_type": "stream",
     "text": [
      "datetime\n",
      "1958-03-31    316.100000\n",
      "1958-04-30    317.200000\n",
      "1958-05-31    317.433333\n",
      "1958-06-30           NaN\n",
      "1958-07-31    315.625000\n",
      "Freq: M, Name: co2, dtype: float64\n"
     ]
    }
   ],
   "source": [
    "# resample frequency from weekly to monthly frequency\n",
    "#df1 = df['co2'].resample('MS') # MS - set month beginning as date\n",
    "df1 = df['co2'].resample('M').mean() # MS - set month beginning as date\n",
    "print(df1.head())"
   ]
  },
  {
   "cell_type": "code",
   "execution_count": 9,
   "id": "6fada6e0",
   "metadata": {},
   "outputs": [
    {
     "name": "stdout",
     "output_type": "stream",
     "text": [
      "datetime\n",
      "1958-03-31    316.100000\n",
      "1958-04-30    317.200000\n",
      "1958-05-31    317.433333\n",
      "1958-06-30    315.625000\n",
      "1958-07-31    315.625000\n",
      "Freq: M, Name: co2, dtype: float64\n"
     ]
    }
   ],
   "source": [
    "# fillna - used for filling null values\n",
    "#          bfill - fills valid succeeding values\n",
    "#          ffill - fills valid preceeding values\n",
    "\n",
    "df1 = df1.fillna(df1.bfill())\n",
    "\n",
    "print(df1.head())"
   ]
  },
  {
   "cell_type": "code",
   "execution_count": 10,
   "id": "ecc9179e",
   "metadata": {},
   "outputs": [
    {
     "data": {
      "image/png": "[encoded data removed]",
      "text/plain": [
       "<Figure size 432x288 with 1 Axes>"
      ]
     },
     "metadata": {
      "needs_background": "light"
     },
     "output_type": "display_data"
    }
   ],
   "source": [
    "df1.plot()\n",
    "\n",
    "plt.show()"
   ]
  },
  {
   "cell_type": "code",
   "execution_count": null,
   "id": "83c3d29f",
   "metadata": {},
   "outputs": [],
   "source": []
  }
 ],
 "metadata": {
  "kernelspec": {
   "display_name": "Python 3 (ipykernel)",
   "language": "python",
   "name": "python3"
  },
  "language_info": {
   "codemirror_mode": {
    "name": "ipython",
    "version": 3
   },
   "file_extension": ".py",
   "mimetype": "text/x-python",
   "name": "python",
   "nbconvert_exporter": "python",
   "pygments_lexer": "ipython3",
   "version": "3.7.3"
  }
 },
 "nbformat": 4,
 "nbformat_minor": 5
}
